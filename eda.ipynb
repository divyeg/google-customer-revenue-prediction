{
 "cells": [
  {
   "cell_type": "code",
   "execution_count": 1,
   "metadata": {},
   "outputs": [],
   "source": [
    "import pandas as pd\n",
    "from pandas import json_normalize\n",
    "import json\n",
    "import numpy as np\n",
    "import matplotlib.pyplot as plt\n",
    "import seaborn as sns\n",
    "from statsmodels.api import OLS\n",
    "import loguru as logger\n",
    "from datetime import datetime, timedelta\n",
    "import warnings\n",
    "import os\n",
    "\n",
    "warnings.simplefilter(\"ignore\")\n",
    "\n",
    "pd.set_option(\"display.max_rows\", 100)\n",
    "pd.set_option(\"display.max_columns\", 100)"
   ]
  },
  {
   "cell_type": "code",
   "execution_count": 2,
   "metadata": {},
   "outputs": [],
   "source": [
    "def load_df(csv_path, nrows=None):\n",
    "    \"\"\"\n",
    "    This function is used to load large csv files with json columns into pandas dataframes\n",
    "    \"\"\"\n",
    "    JSON_COLUMNS = [\n",
    "        # \"customDimensions\", #the column has single quotes and hence not picked up by JSON Loader\n",
    "        \"device\",\n",
    "        \"geoNetwork\",\n",
    "        # \"hits\", #the column has single quotes and hence not picked up by JSON Loader\n",
    "        \"totals\",\n",
    "        \"trafficSource\",\n",
    "    ]\n",
    "    df = pd.read_csv(\n",
    "        csv_path,\n",
    "        converters={column: json.loads for column in JSON_COLUMNS},\n",
    "        dtype={\"fullVisitorId\": \"str\"},\n",
    "        nrows=nrows,\n",
    "    )\n",
    "\n",
    "    for column in JSON_COLUMNS:\n",
    "        columns_as_df = json_normalize(df[column])\n",
    "        columns_as_df.columns = [\n",
    "            f\"{column}_{subcolumn}\" for subcolumn in columns_as_df.columns\n",
    "        ]\n",
    "        df = df.drop(column, axis=1).merge(\n",
    "            columns_as_df, right_index=True, left_index=True\n",
    "        )\n",
    "\n",
    "    print(f\"Loaded {csv_path}, shape: {df.shape}\")\n",
    "    return df"
   ]
  },
  {
   "cell_type": "code",
   "execution_count": 3,
   "metadata": {},
   "outputs": [
    {
     "name": "stdout",
     "output_type": "stream",
     "text": [
      "Loaded /Users/divye/Desktop/gcrp_data/data/train_v2.csv, shape: (200000, 60)\n",
      "Loaded /Users/divye/Desktop/gcrp_data/data/test_v2.csv, shape: (200000, 59)\n",
      "Train shape (200000, 60), Test Shape (200000, 59)\n"
     ]
    }
   ],
   "source": [
    "train_file_path = os.path.join(\"/Users/divye/Desktop/gcrp_data/data\", \"train_v2.csv\")\n",
    "test_file_path = os.path.join(\"/Users/divye/Desktop/gcrp_data/data\", \"test_v2.csv\")\n",
    "\n",
    "df_train = load_df(csv_path=train_file_path, nrows=200000)\n",
    "df_test = load_df(csv_path=test_file_path, nrows=200000)\n",
    "\n",
    "print(f\"Train shape {df_train.shape}, Test Shape {df_test.shape}\")"
   ]
  },
  {
   "cell_type": "code",
   "execution_count": 4,
   "metadata": {},
   "outputs": [
    {
     "data": {
      "text/html": [
       "<div>\n",
       "<style scoped>\n",
       "    .dataframe tbody tr th:only-of-type {\n",
       "        vertical-align: middle;\n",
       "    }\n",
       "\n",
       "    .dataframe tbody tr th {\n",
       "        vertical-align: top;\n",
       "    }\n",
       "\n",
       "    .dataframe thead th {\n",
       "        text-align: right;\n",
       "    }\n",
       "</style>\n",
       "<table border=\"1\" class=\"dataframe\">\n",
       "  <thead>\n",
       "    <tr style=\"text-align: right;\">\n",
       "      <th></th>\n",
       "      <th>channelGrouping</th>\n",
       "      <th>customDimensions</th>\n",
       "      <th>date</th>\n",
       "      <th>fullVisitorId</th>\n",
       "      <th>hits</th>\n",
       "      <th>socialEngagementType</th>\n",
       "      <th>visitId</th>\n",
       "      <th>visitNumber</th>\n",
       "      <th>visitStartTime</th>\n",
       "      <th>device_browser</th>\n",
       "      <th>device_browserVersion</th>\n",
       "      <th>device_browserSize</th>\n",
       "      <th>device_operatingSystem</th>\n",
       "      <th>device_operatingSystemVersion</th>\n",
       "      <th>device_isMobile</th>\n",
       "      <th>device_mobileDeviceBranding</th>\n",
       "      <th>device_mobileDeviceModel</th>\n",
       "      <th>device_mobileInputSelector</th>\n",
       "      <th>device_mobileDeviceInfo</th>\n",
       "      <th>device_mobileDeviceMarketingName</th>\n",
       "      <th>device_flashVersion</th>\n",
       "      <th>device_language</th>\n",
       "      <th>device_screenColors</th>\n",
       "      <th>device_screenResolution</th>\n",
       "      <th>device_deviceCategory</th>\n",
       "      <th>geoNetwork_continent</th>\n",
       "      <th>geoNetwork_subContinent</th>\n",
       "      <th>geoNetwork_country</th>\n",
       "      <th>geoNetwork_region</th>\n",
       "      <th>geoNetwork_metro</th>\n",
       "      <th>geoNetwork_city</th>\n",
       "      <th>geoNetwork_cityId</th>\n",
       "      <th>geoNetwork_networkDomain</th>\n",
       "      <th>geoNetwork_latitude</th>\n",
       "      <th>geoNetwork_longitude</th>\n",
       "      <th>geoNetwork_networkLocation</th>\n",
       "      <th>totals_visits</th>\n",
       "      <th>totals_hits</th>\n",
       "      <th>totals_pageviews</th>\n",
       "      <th>totals_bounces</th>\n",
       "      <th>totals_newVisits</th>\n",
       "      <th>totals_sessionQualityDim</th>\n",
       "      <th>totals_timeOnSite</th>\n",
       "      <th>totals_transactions</th>\n",
       "      <th>totals_transactionRevenue</th>\n",
       "      <th>totals_totalTransactionRevenue</th>\n",
       "      <th>trafficSource_campaign</th>\n",
       "      <th>trafficSource_source</th>\n",
       "      <th>trafficSource_medium</th>\n",
       "      <th>trafficSource_keyword</th>\n",
       "      <th>trafficSource_adwordsClickInfo.criteriaParameters</th>\n",
       "      <th>trafficSource_referralPath</th>\n",
       "      <th>trafficSource_isTrueDirect</th>\n",
       "      <th>trafficSource_adContent</th>\n",
       "      <th>trafficSource_adwordsClickInfo.page</th>\n",
       "      <th>trafficSource_adwordsClickInfo.slot</th>\n",
       "      <th>trafficSource_adwordsClickInfo.gclId</th>\n",
       "      <th>trafficSource_adwordsClickInfo.adNetworkType</th>\n",
       "      <th>trafficSource_adwordsClickInfo.isVideoAd</th>\n",
       "      <th>trafficSource_campaignCode</th>\n",
       "    </tr>\n",
       "  </thead>\n",
       "  <tbody>\n",
       "    <tr>\n",
       "      <th>0</th>\n",
       "      <td>Organic Search</td>\n",
       "      <td>[{'index': '4', 'value': 'EMEA'}]</td>\n",
       "      <td>20171016</td>\n",
       "      <td>3162355547410993243</td>\n",
       "      <td>[{'hitNumber': '1', 'time': '0', 'hour': '17',...</td>\n",
       "      <td>Not Socially Engaged</td>\n",
       "      <td>1508198450</td>\n",
       "      <td>1</td>\n",
       "      <td>1508198450</td>\n",
       "      <td>Firefox</td>\n",
       "      <td>not available in demo dataset</td>\n",
       "      <td>not available in demo dataset</td>\n",
       "      <td>Windows</td>\n",
       "      <td>not available in demo dataset</td>\n",
       "      <td>False</td>\n",
       "      <td>not available in demo dataset</td>\n",
       "      <td>not available in demo dataset</td>\n",
       "      <td>not available in demo dataset</td>\n",
       "      <td>not available in demo dataset</td>\n",
       "      <td>not available in demo dataset</td>\n",
       "      <td>not available in demo dataset</td>\n",
       "      <td>not available in demo dataset</td>\n",
       "      <td>not available in demo dataset</td>\n",
       "      <td>not available in demo dataset</td>\n",
       "      <td>desktop</td>\n",
       "      <td>Europe</td>\n",
       "      <td>Western Europe</td>\n",
       "      <td>Germany</td>\n",
       "      <td>not available in demo dataset</td>\n",
       "      <td>not available in demo dataset</td>\n",
       "      <td>not available in demo dataset</td>\n",
       "      <td>not available in demo dataset</td>\n",
       "      <td>(not set)</td>\n",
       "      <td>not available in demo dataset</td>\n",
       "      <td>not available in demo dataset</td>\n",
       "      <td>not available in demo dataset</td>\n",
       "      <td>1</td>\n",
       "      <td>1</td>\n",
       "      <td>1</td>\n",
       "      <td>1</td>\n",
       "      <td>1</td>\n",
       "      <td>1</td>\n",
       "      <td>NaN</td>\n",
       "      <td>NaN</td>\n",
       "      <td>NaN</td>\n",
       "      <td>NaN</td>\n",
       "      <td>(not set)</td>\n",
       "      <td>google</td>\n",
       "      <td>organic</td>\n",
       "      <td>water bottle</td>\n",
       "      <td>not available in demo dataset</td>\n",
       "      <td>NaN</td>\n",
       "      <td>NaN</td>\n",
       "      <td>NaN</td>\n",
       "      <td>NaN</td>\n",
       "      <td>NaN</td>\n",
       "      <td>NaN</td>\n",
       "      <td>NaN</td>\n",
       "      <td>NaN</td>\n",
       "      <td>NaN</td>\n",
       "    </tr>\n",
       "    <tr>\n",
       "      <th>1</th>\n",
       "      <td>Referral</td>\n",
       "      <td>[{'index': '4', 'value': 'North America'}]</td>\n",
       "      <td>20171016</td>\n",
       "      <td>8934116514970143966</td>\n",
       "      <td>[{'hitNumber': '1', 'time': '0', 'hour': '10',...</td>\n",
       "      <td>Not Socially Engaged</td>\n",
       "      <td>1508176307</td>\n",
       "      <td>6</td>\n",
       "      <td>1508176307</td>\n",
       "      <td>Chrome</td>\n",
       "      <td>not available in demo dataset</td>\n",
       "      <td>not available in demo dataset</td>\n",
       "      <td>Chrome OS</td>\n",
       "      <td>not available in demo dataset</td>\n",
       "      <td>False</td>\n",
       "      <td>not available in demo dataset</td>\n",
       "      <td>not available in demo dataset</td>\n",
       "      <td>not available in demo dataset</td>\n",
       "      <td>not available in demo dataset</td>\n",
       "      <td>not available in demo dataset</td>\n",
       "      <td>not available in demo dataset</td>\n",
       "      <td>not available in demo dataset</td>\n",
       "      <td>not available in demo dataset</td>\n",
       "      <td>not available in demo dataset</td>\n",
       "      <td>desktop</td>\n",
       "      <td>Americas</td>\n",
       "      <td>Northern America</td>\n",
       "      <td>United States</td>\n",
       "      <td>California</td>\n",
       "      <td>San Francisco-Oakland-San Jose CA</td>\n",
       "      <td>Cupertino</td>\n",
       "      <td>not available in demo dataset</td>\n",
       "      <td>(not set)</td>\n",
       "      <td>not available in demo dataset</td>\n",
       "      <td>not available in demo dataset</td>\n",
       "      <td>not available in demo dataset</td>\n",
       "      <td>1</td>\n",
       "      <td>2</td>\n",
       "      <td>2</td>\n",
       "      <td>NaN</td>\n",
       "      <td>NaN</td>\n",
       "      <td>2</td>\n",
       "      <td>28</td>\n",
       "      <td>NaN</td>\n",
       "      <td>NaN</td>\n",
       "      <td>NaN</td>\n",
       "      <td>(not set)</td>\n",
       "      <td>sites.google.com</td>\n",
       "      <td>referral</td>\n",
       "      <td>NaN</td>\n",
       "      <td>not available in demo dataset</td>\n",
       "      <td>/a/google.com/transportation/mtv-services/bike...</td>\n",
       "      <td>NaN</td>\n",
       "      <td>NaN</td>\n",
       "      <td>NaN</td>\n",
       "      <td>NaN</td>\n",
       "      <td>NaN</td>\n",
       "      <td>NaN</td>\n",
       "      <td>NaN</td>\n",
       "      <td>NaN</td>\n",
       "    </tr>\n",
       "    <tr>\n",
       "      <th>2</th>\n",
       "      <td>Direct</td>\n",
       "      <td>[{'index': '4', 'value': 'North America'}]</td>\n",
       "      <td>20171016</td>\n",
       "      <td>7992466427990357681</td>\n",
       "      <td>[{'hitNumber': '1', 'time': '0', 'hour': '17',...</td>\n",
       "      <td>Not Socially Engaged</td>\n",
       "      <td>1508201613</td>\n",
       "      <td>1</td>\n",
       "      <td>1508201613</td>\n",
       "      <td>Chrome</td>\n",
       "      <td>not available in demo dataset</td>\n",
       "      <td>not available in demo dataset</td>\n",
       "      <td>Android</td>\n",
       "      <td>not available in demo dataset</td>\n",
       "      <td>True</td>\n",
       "      <td>not available in demo dataset</td>\n",
       "      <td>not available in demo dataset</td>\n",
       "      <td>not available in demo dataset</td>\n",
       "      <td>not available in demo dataset</td>\n",
       "      <td>not available in demo dataset</td>\n",
       "      <td>not available in demo dataset</td>\n",
       "      <td>not available in demo dataset</td>\n",
       "      <td>not available in demo dataset</td>\n",
       "      <td>not available in demo dataset</td>\n",
       "      <td>mobile</td>\n",
       "      <td>Americas</td>\n",
       "      <td>Northern America</td>\n",
       "      <td>United States</td>\n",
       "      <td>not available in demo dataset</td>\n",
       "      <td>not available in demo dataset</td>\n",
       "      <td>not available in demo dataset</td>\n",
       "      <td>not available in demo dataset</td>\n",
       "      <td>windjammercable.net</td>\n",
       "      <td>not available in demo dataset</td>\n",
       "      <td>not available in demo dataset</td>\n",
       "      <td>not available in demo dataset</td>\n",
       "      <td>1</td>\n",
       "      <td>2</td>\n",
       "      <td>2</td>\n",
       "      <td>NaN</td>\n",
       "      <td>1</td>\n",
       "      <td>1</td>\n",
       "      <td>38</td>\n",
       "      <td>NaN</td>\n",
       "      <td>NaN</td>\n",
       "      <td>NaN</td>\n",
       "      <td>(not set)</td>\n",
       "      <td>(direct)</td>\n",
       "      <td>(none)</td>\n",
       "      <td>NaN</td>\n",
       "      <td>not available in demo dataset</td>\n",
       "      <td>NaN</td>\n",
       "      <td>True</td>\n",
       "      <td>NaN</td>\n",
       "      <td>NaN</td>\n",
       "      <td>NaN</td>\n",
       "      <td>NaN</td>\n",
       "      <td>NaN</td>\n",
       "      <td>NaN</td>\n",
       "      <td>NaN</td>\n",
       "    </tr>\n",
       "    <tr>\n",
       "      <th>3</th>\n",
       "      <td>Organic Search</td>\n",
       "      <td>[{'index': '4', 'value': 'EMEA'}]</td>\n",
       "      <td>20171016</td>\n",
       "      <td>9075655783635761930</td>\n",
       "      <td>[{'hitNumber': '1', 'time': '0', 'hour': '9', ...</td>\n",
       "      <td>Not Socially Engaged</td>\n",
       "      <td>1508169851</td>\n",
       "      <td>1</td>\n",
       "      <td>1508169851</td>\n",
       "      <td>Chrome</td>\n",
       "      <td>not available in demo dataset</td>\n",
       "      <td>not available in demo dataset</td>\n",
       "      <td>Windows</td>\n",
       "      <td>not available in demo dataset</td>\n",
       "      <td>False</td>\n",
       "      <td>not available in demo dataset</td>\n",
       "      <td>not available in demo dataset</td>\n",
       "      <td>not available in demo dataset</td>\n",
       "      <td>not available in demo dataset</td>\n",
       "      <td>not available in demo dataset</td>\n",
       "      <td>not available in demo dataset</td>\n",
       "      <td>not available in demo dataset</td>\n",
       "      <td>not available in demo dataset</td>\n",
       "      <td>not available in demo dataset</td>\n",
       "      <td>desktop</td>\n",
       "      <td>Asia</td>\n",
       "      <td>Western Asia</td>\n",
       "      <td>Turkey</td>\n",
       "      <td>not available in demo dataset</td>\n",
       "      <td>not available in demo dataset</td>\n",
       "      <td>not available in demo dataset</td>\n",
       "      <td>not available in demo dataset</td>\n",
       "      <td>unknown.unknown</td>\n",
       "      <td>not available in demo dataset</td>\n",
       "      <td>not available in demo dataset</td>\n",
       "      <td>not available in demo dataset</td>\n",
       "      <td>1</td>\n",
       "      <td>2</td>\n",
       "      <td>2</td>\n",
       "      <td>NaN</td>\n",
       "      <td>1</td>\n",
       "      <td>1</td>\n",
       "      <td>1</td>\n",
       "      <td>NaN</td>\n",
       "      <td>NaN</td>\n",
       "      <td>NaN</td>\n",
       "      <td>(not set)</td>\n",
       "      <td>google</td>\n",
       "      <td>organic</td>\n",
       "      <td>(not provided)</td>\n",
       "      <td>not available in demo dataset</td>\n",
       "      <td>NaN</td>\n",
       "      <td>NaN</td>\n",
       "      <td>NaN</td>\n",
       "      <td>NaN</td>\n",
       "      <td>NaN</td>\n",
       "      <td>NaN</td>\n",
       "      <td>NaN</td>\n",
       "      <td>NaN</td>\n",
       "      <td>NaN</td>\n",
       "    </tr>\n",
       "    <tr>\n",
       "      <th>4</th>\n",
       "      <td>Organic Search</td>\n",
       "      <td>[{'index': '4', 'value': 'Central America'}]</td>\n",
       "      <td>20171016</td>\n",
       "      <td>6960673291025684308</td>\n",
       "      <td>[{'hitNumber': '1', 'time': '0', 'hour': '14',...</td>\n",
       "      <td>Not Socially Engaged</td>\n",
       "      <td>1508190552</td>\n",
       "      <td>1</td>\n",
       "      <td>1508190552</td>\n",
       "      <td>Chrome</td>\n",
       "      <td>not available in demo dataset</td>\n",
       "      <td>not available in demo dataset</td>\n",
       "      <td>Windows</td>\n",
       "      <td>not available in demo dataset</td>\n",
       "      <td>False</td>\n",
       "      <td>not available in demo dataset</td>\n",
       "      <td>not available in demo dataset</td>\n",
       "      <td>not available in demo dataset</td>\n",
       "      <td>not available in demo dataset</td>\n",
       "      <td>not available in demo dataset</td>\n",
       "      <td>not available in demo dataset</td>\n",
       "      <td>not available in demo dataset</td>\n",
       "      <td>not available in demo dataset</td>\n",
       "      <td>not available in demo dataset</td>\n",
       "      <td>desktop</td>\n",
       "      <td>Americas</td>\n",
       "      <td>Central America</td>\n",
       "      <td>Mexico</td>\n",
       "      <td>not available in demo dataset</td>\n",
       "      <td>not available in demo dataset</td>\n",
       "      <td>not available in demo dataset</td>\n",
       "      <td>not available in demo dataset</td>\n",
       "      <td>prod-infinitum.com.mx</td>\n",
       "      <td>not available in demo dataset</td>\n",
       "      <td>not available in demo dataset</td>\n",
       "      <td>not available in demo dataset</td>\n",
       "      <td>1</td>\n",
       "      <td>2</td>\n",
       "      <td>2</td>\n",
       "      <td>NaN</td>\n",
       "      <td>1</td>\n",
       "      <td>1</td>\n",
       "      <td>52</td>\n",
       "      <td>NaN</td>\n",
       "      <td>NaN</td>\n",
       "      <td>NaN</td>\n",
       "      <td>(not set)</td>\n",
       "      <td>google</td>\n",
       "      <td>organic</td>\n",
       "      <td>(not provided)</td>\n",
       "      <td>not available in demo dataset</td>\n",
       "      <td>NaN</td>\n",
       "      <td>NaN</td>\n",
       "      <td>NaN</td>\n",
       "      <td>NaN</td>\n",
       "      <td>NaN</td>\n",
       "      <td>NaN</td>\n",
       "      <td>NaN</td>\n",
       "      <td>NaN</td>\n",
       "      <td>NaN</td>\n",
       "    </tr>\n",
       "  </tbody>\n",
       "</table>\n",
       "</div>"
      ],
      "text/plain": [
       "  channelGrouping                              customDimensions      date  \\\n",
       "0  Organic Search             [{'index': '4', 'value': 'EMEA'}]  20171016   \n",
       "1        Referral    [{'index': '4', 'value': 'North America'}]  20171016   \n",
       "2          Direct    [{'index': '4', 'value': 'North America'}]  20171016   \n",
       "3  Organic Search             [{'index': '4', 'value': 'EMEA'}]  20171016   \n",
       "4  Organic Search  [{'index': '4', 'value': 'Central America'}]  20171016   \n",
       "\n",
       "         fullVisitorId                                               hits  \\\n",
       "0  3162355547410993243  [{'hitNumber': '1', 'time': '0', 'hour': '17',...   \n",
       "1  8934116514970143966  [{'hitNumber': '1', 'time': '0', 'hour': '10',...   \n",
       "2  7992466427990357681  [{'hitNumber': '1', 'time': '0', 'hour': '17',...   \n",
       "3  9075655783635761930  [{'hitNumber': '1', 'time': '0', 'hour': '9', ...   \n",
       "4  6960673291025684308  [{'hitNumber': '1', 'time': '0', 'hour': '14',...   \n",
       "\n",
       "   socialEngagementType     visitId  visitNumber  visitStartTime  \\\n",
       "0  Not Socially Engaged  1508198450            1      1508198450   \n",
       "1  Not Socially Engaged  1508176307            6      1508176307   \n",
       "2  Not Socially Engaged  1508201613            1      1508201613   \n",
       "3  Not Socially Engaged  1508169851            1      1508169851   \n",
       "4  Not Socially Engaged  1508190552            1      1508190552   \n",
       "\n",
       "  device_browser          device_browserVersion  \\\n",
       "0        Firefox  not available in demo dataset   \n",
       "1         Chrome  not available in demo dataset   \n",
       "2         Chrome  not available in demo dataset   \n",
       "3         Chrome  not available in demo dataset   \n",
       "4         Chrome  not available in demo dataset   \n",
       "\n",
       "              device_browserSize device_operatingSystem  \\\n",
       "0  not available in demo dataset                Windows   \n",
       "1  not available in demo dataset              Chrome OS   \n",
       "2  not available in demo dataset                Android   \n",
       "3  not available in demo dataset                Windows   \n",
       "4  not available in demo dataset                Windows   \n",
       "\n",
       "   device_operatingSystemVersion  device_isMobile  \\\n",
       "0  not available in demo dataset            False   \n",
       "1  not available in demo dataset            False   \n",
       "2  not available in demo dataset             True   \n",
       "3  not available in demo dataset            False   \n",
       "4  not available in demo dataset            False   \n",
       "\n",
       "     device_mobileDeviceBranding       device_mobileDeviceModel  \\\n",
       "0  not available in demo dataset  not available in demo dataset   \n",
       "1  not available in demo dataset  not available in demo dataset   \n",
       "2  not available in demo dataset  not available in demo dataset   \n",
       "3  not available in demo dataset  not available in demo dataset   \n",
       "4  not available in demo dataset  not available in demo dataset   \n",
       "\n",
       "      device_mobileInputSelector        device_mobileDeviceInfo  \\\n",
       "0  not available in demo dataset  not available in demo dataset   \n",
       "1  not available in demo dataset  not available in demo dataset   \n",
       "2  not available in demo dataset  not available in demo dataset   \n",
       "3  not available in demo dataset  not available in demo dataset   \n",
       "4  not available in demo dataset  not available in demo dataset   \n",
       "\n",
       "  device_mobileDeviceMarketingName            device_flashVersion  \\\n",
       "0    not available in demo dataset  not available in demo dataset   \n",
       "1    not available in demo dataset  not available in demo dataset   \n",
       "2    not available in demo dataset  not available in demo dataset   \n",
       "3    not available in demo dataset  not available in demo dataset   \n",
       "4    not available in demo dataset  not available in demo dataset   \n",
       "\n",
       "                 device_language            device_screenColors  \\\n",
       "0  not available in demo dataset  not available in demo dataset   \n",
       "1  not available in demo dataset  not available in demo dataset   \n",
       "2  not available in demo dataset  not available in demo dataset   \n",
       "3  not available in demo dataset  not available in demo dataset   \n",
       "4  not available in demo dataset  not available in demo dataset   \n",
       "\n",
       "         device_screenResolution device_deviceCategory geoNetwork_continent  \\\n",
       "0  not available in demo dataset               desktop               Europe   \n",
       "1  not available in demo dataset               desktop             Americas   \n",
       "2  not available in demo dataset                mobile             Americas   \n",
       "3  not available in demo dataset               desktop                 Asia   \n",
       "4  not available in demo dataset               desktop             Americas   \n",
       "\n",
       "  geoNetwork_subContinent geoNetwork_country              geoNetwork_region  \\\n",
       "0          Western Europe            Germany  not available in demo dataset   \n",
       "1        Northern America      United States                     California   \n",
       "2        Northern America      United States  not available in demo dataset   \n",
       "3            Western Asia             Turkey  not available in demo dataset   \n",
       "4         Central America             Mexico  not available in demo dataset   \n",
       "\n",
       "                    geoNetwork_metro                geoNetwork_city  \\\n",
       "0      not available in demo dataset  not available in demo dataset   \n",
       "1  San Francisco-Oakland-San Jose CA                      Cupertino   \n",
       "2      not available in demo dataset  not available in demo dataset   \n",
       "3      not available in demo dataset  not available in demo dataset   \n",
       "4      not available in demo dataset  not available in demo dataset   \n",
       "\n",
       "               geoNetwork_cityId geoNetwork_networkDomain  \\\n",
       "0  not available in demo dataset                (not set)   \n",
       "1  not available in demo dataset                (not set)   \n",
       "2  not available in demo dataset      windjammercable.net   \n",
       "3  not available in demo dataset          unknown.unknown   \n",
       "4  not available in demo dataset    prod-infinitum.com.mx   \n",
       "\n",
       "             geoNetwork_latitude           geoNetwork_longitude  \\\n",
       "0  not available in demo dataset  not available in demo dataset   \n",
       "1  not available in demo dataset  not available in demo dataset   \n",
       "2  not available in demo dataset  not available in demo dataset   \n",
       "3  not available in demo dataset  not available in demo dataset   \n",
       "4  not available in demo dataset  not available in demo dataset   \n",
       "\n",
       "      geoNetwork_networkLocation totals_visits totals_hits totals_pageviews  \\\n",
       "0  not available in demo dataset             1           1                1   \n",
       "1  not available in demo dataset             1           2                2   \n",
       "2  not available in demo dataset             1           2                2   \n",
       "3  not available in demo dataset             1           2                2   \n",
       "4  not available in demo dataset             1           2                2   \n",
       "\n",
       "  totals_bounces totals_newVisits totals_sessionQualityDim totals_timeOnSite  \\\n",
       "0              1                1                        1               NaN   \n",
       "1            NaN              NaN                        2                28   \n",
       "2            NaN                1                        1                38   \n",
       "3            NaN                1                        1                 1   \n",
       "4            NaN                1                        1                52   \n",
       "\n",
       "  totals_transactions totals_transactionRevenue  \\\n",
       "0                 NaN                       NaN   \n",
       "1                 NaN                       NaN   \n",
       "2                 NaN                       NaN   \n",
       "3                 NaN                       NaN   \n",
       "4                 NaN                       NaN   \n",
       "\n",
       "  totals_totalTransactionRevenue trafficSource_campaign trafficSource_source  \\\n",
       "0                            NaN              (not set)               google   \n",
       "1                            NaN              (not set)     sites.google.com   \n",
       "2                            NaN              (not set)             (direct)   \n",
       "3                            NaN              (not set)               google   \n",
       "4                            NaN              (not set)               google   \n",
       "\n",
       "  trafficSource_medium trafficSource_keyword  \\\n",
       "0              organic          water bottle   \n",
       "1             referral                   NaN   \n",
       "2               (none)                   NaN   \n",
       "3              organic        (not provided)   \n",
       "4              organic        (not provided)   \n",
       "\n",
       "  trafficSource_adwordsClickInfo.criteriaParameters  \\\n",
       "0                     not available in demo dataset   \n",
       "1                     not available in demo dataset   \n",
       "2                     not available in demo dataset   \n",
       "3                     not available in demo dataset   \n",
       "4                     not available in demo dataset   \n",
       "\n",
       "                          trafficSource_referralPath  \\\n",
       "0                                                NaN   \n",
       "1  /a/google.com/transportation/mtv-services/bike...   \n",
       "2                                                NaN   \n",
       "3                                                NaN   \n",
       "4                                                NaN   \n",
       "\n",
       "  trafficSource_isTrueDirect trafficSource_adContent  \\\n",
       "0                        NaN                     NaN   \n",
       "1                        NaN                     NaN   \n",
       "2                       True                     NaN   \n",
       "3                        NaN                     NaN   \n",
       "4                        NaN                     NaN   \n",
       "\n",
       "  trafficSource_adwordsClickInfo.page trafficSource_adwordsClickInfo.slot  \\\n",
       "0                                 NaN                                 NaN   \n",
       "1                                 NaN                                 NaN   \n",
       "2                                 NaN                                 NaN   \n",
       "3                                 NaN                                 NaN   \n",
       "4                                 NaN                                 NaN   \n",
       "\n",
       "  trafficSource_adwordsClickInfo.gclId  \\\n",
       "0                                  NaN   \n",
       "1                                  NaN   \n",
       "2                                  NaN   \n",
       "3                                  NaN   \n",
       "4                                  NaN   \n",
       "\n",
       "  trafficSource_adwordsClickInfo.adNetworkType  \\\n",
       "0                                          NaN   \n",
       "1                                          NaN   \n",
       "2                                          NaN   \n",
       "3                                          NaN   \n",
       "4                                          NaN   \n",
       "\n",
       "  trafficSource_adwordsClickInfo.isVideoAd trafficSource_campaignCode  \n",
       "0                                      NaN                        NaN  \n",
       "1                                      NaN                        NaN  \n",
       "2                                      NaN                        NaN  \n",
       "3                                      NaN                        NaN  \n",
       "4                                      NaN                        NaN  "
      ]
     },
     "execution_count": 4,
     "metadata": {},
     "output_type": "execute_result"
    }
   ],
   "source": [
    "df_train.head()"
   ]
  },
  {
   "cell_type": "code",
   "execution_count": 5,
   "metadata": {},
   "outputs": [
    {
     "name": "stdout",
     "output_type": "stream",
     "text": [
      "<class 'pandas.core.frame.DataFrame'>\n",
      "RangeIndex: 200000 entries, 0 to 199999\n",
      "Data columns (total 60 columns):\n",
      " #   Column                                             Non-Null Count   Dtype \n",
      "---  ------                                             --------------   ----- \n",
      " 0   channelGrouping                                    200000 non-null  object\n",
      " 1   customDimensions                                   200000 non-null  object\n",
      " 2   date                                               200000 non-null  int64 \n",
      " 3   fullVisitorId                                      200000 non-null  object\n",
      " 4   hits                                               200000 non-null  object\n",
      " 5   socialEngagementType                               200000 non-null  object\n",
      " 6   visitId                                            200000 non-null  int64 \n",
      " 7   visitNumber                                        200000 non-null  int64 \n",
      " 8   visitStartTime                                     200000 non-null  int64 \n",
      " 9   device_browser                                     200000 non-null  object\n",
      " 10  device_browserVersion                              200000 non-null  object\n",
      " 11  device_browserSize                                 200000 non-null  object\n",
      " 12  device_operatingSystem                             200000 non-null  object\n",
      " 13  device_operatingSystemVersion                      200000 non-null  object\n",
      " 14  device_isMobile                                    200000 non-null  bool  \n",
      " 15  device_mobileDeviceBranding                        200000 non-null  object\n",
      " 16  device_mobileDeviceModel                           200000 non-null  object\n",
      " 17  device_mobileInputSelector                         200000 non-null  object\n",
      " 18  device_mobileDeviceInfo                            200000 non-null  object\n",
      " 19  device_mobileDeviceMarketingName                   200000 non-null  object\n",
      " 20  device_flashVersion                                200000 non-null  object\n",
      " 21  device_language                                    200000 non-null  object\n",
      " 22  device_screenColors                                200000 non-null  object\n",
      " 23  device_screenResolution                            200000 non-null  object\n",
      " 24  device_deviceCategory                              200000 non-null  object\n",
      " 25  geoNetwork_continent                               200000 non-null  object\n",
      " 26  geoNetwork_subContinent                            200000 non-null  object\n",
      " 27  geoNetwork_country                                 200000 non-null  object\n",
      " 28  geoNetwork_region                                  200000 non-null  object\n",
      " 29  geoNetwork_metro                                   200000 non-null  object\n",
      " 30  geoNetwork_city                                    200000 non-null  object\n",
      " 31  geoNetwork_cityId                                  200000 non-null  object\n",
      " 32  geoNetwork_networkDomain                           200000 non-null  object\n",
      " 33  geoNetwork_latitude                                200000 non-null  object\n",
      " 34  geoNetwork_longitude                               200000 non-null  object\n",
      " 35  geoNetwork_networkLocation                         200000 non-null  object\n",
      " 36  totals_visits                                      200000 non-null  object\n",
      " 37  totals_hits                                        200000 non-null  object\n",
      " 38  totals_pageviews                                   199975 non-null  object\n",
      " 39  totals_bounces                                     101065 non-null  object\n",
      " 40  totals_newVisits                                   152983 non-null  object\n",
      " 41  totals_sessionQualityDim                           91233 non-null   object\n",
      " 42  totals_timeOnSite                                  98642 non-null   object\n",
      " 43  totals_transactions                                2177 non-null    object\n",
      " 44  totals_transactionRevenue                          2167 non-null    object\n",
      " 45  totals_totalTransactionRevenue                     2167 non-null    object\n",
      " 46  trafficSource_campaign                             200000 non-null  object\n",
      " 47  trafficSource_source                               200000 non-null  object\n",
      " 48  trafficSource_medium                               200000 non-null  object\n",
      " 49  trafficSource_keyword                              68314 non-null   object\n",
      " 50  trafficSource_adwordsClickInfo.criteriaParameters  200000 non-null  object\n",
      " 51  trafficSource_referralPath                         67567 non-null   object\n",
      " 52  trafficSource_isTrueDirect                         60689 non-null   object\n",
      " 53  trafficSource_adContent                            7565 non-null    object\n",
      " 54  trafficSource_adwordsClickInfo.page                9027 non-null    object\n",
      " 55  trafficSource_adwordsClickInfo.slot                9027 non-null    object\n",
      " 56  trafficSource_adwordsClickInfo.gclId               9083 non-null    object\n",
      " 57  trafficSource_adwordsClickInfo.adNetworkType       9027 non-null    object\n",
      " 58  trafficSource_adwordsClickInfo.isVideoAd           9027 non-null    object\n",
      " 59  trafficSource_campaignCode                         1 non-null       object\n",
      "dtypes: bool(1), int64(4), object(55)\n",
      "memory usage: 90.2+ MB\n"
     ]
    }
   ],
   "source": [
    "df_train.info()"
   ]
  },
  {
   "cell_type": "code",
   "execution_count": 6,
   "metadata": {},
   "outputs": [
    {
     "data": {
      "text/plain": [
       "channelGrouping                                           8\n",
       "customDimensions                                          6\n",
       "date                                                     77\n",
       "fullVisitorId                                        177052\n",
       "hits                                                 180625\n",
       "socialEngagementType                                      1\n",
       "visitId                                              196151\n",
       "visitNumber                                             263\n",
       "visitStartTime                                       196157\n",
       "device_browser                                           45\n",
       "device_browserVersion                                     1\n",
       "device_browserSize                                        1\n",
       "device_operatingSystem                                   21\n",
       "device_operatingSystemVersion                             1\n",
       "device_isMobile                                           2\n",
       "device_mobileDeviceBranding                               1\n",
       "device_mobileDeviceModel                                  1\n",
       "device_mobileInputSelector                                1\n",
       "device_mobileDeviceInfo                                   1\n",
       "device_mobileDeviceMarketingName                          1\n",
       "device_flashVersion                                       1\n",
       "device_language                                           1\n",
       "device_screenColors                                       1\n",
       "device_screenResolution                                   1\n",
       "device_deviceCategory                                     3\n",
       "geoNetwork_continent                                      6\n",
       "geoNetwork_subContinent                                  23\n",
       "geoNetwork_country                                      199\n",
       "geoNetwork_region                                       277\n",
       "geoNetwork_metro                                         69\n",
       "geoNetwork_city                                         402\n",
       "geoNetwork_cityId                                         1\n",
       "geoNetwork_networkDomain                              11633\n",
       "geoNetwork_latitude                                       1\n",
       "geoNetwork_longitude                                      1\n",
       "geoNetwork_networkLocation                                1\n",
       "totals_visits                                             1\n",
       "totals_hits                                             182\n",
       "totals_pageviews                                        137\n",
       "totals_bounces                                            1\n",
       "totals_newVisits                                          1\n",
       "totals_sessionQualityDim                                 97\n",
       "totals_timeOnSite                                      2912\n",
       "totals_transactions                                       6\n",
       "totals_transactionRevenue                              1391\n",
       "totals_totalTransactionRevenue                         1609\n",
       "trafficSource_campaign                                   28\n",
       "trafficSource_source                                    178\n",
       "trafficSource_medium                                      7\n",
       "trafficSource_keyword                                   772\n",
       "trafficSource_adwordsClickInfo.criteriaParameters         1\n",
       "trafficSource_referralPath                             1366\n",
       "trafficSource_isTrueDirect                                1\n",
       "trafficSource_adContent                                  58\n",
       "trafficSource_adwordsClickInfo.page                       6\n",
       "trafficSource_adwordsClickInfo.slot                       3\n",
       "trafficSource_adwordsClickInfo.gclId                   7907\n",
       "trafficSource_adwordsClickInfo.adNetworkType              3\n",
       "trafficSource_adwordsClickInfo.isVideoAd                  1\n",
       "trafficSource_campaignCode                                1\n",
       "dtype: int64"
      ]
     },
     "execution_count": 6,
     "metadata": {},
     "output_type": "execute_result"
    }
   ],
   "source": [
    "df_train.nunique()"
   ]
  },
  {
   "cell_type": "code",
   "execution_count": 7,
   "metadata": {},
   "outputs": [
    {
     "data": {
      "text/plain": [
       "Index(['channelGrouping', 'customDimensions', 'date', 'fullVisitorId', 'hits',\n",
       "       'socialEngagementType', 'visitId', 'visitNumber', 'visitStartTime',\n",
       "       'device_browser', 'device_browserVersion', 'device_browserSize',\n",
       "       'device_operatingSystem', 'device_operatingSystemVersion',\n",
       "       'device_isMobile', 'device_mobileDeviceBranding',\n",
       "       'device_mobileDeviceModel', 'device_mobileInputSelector',\n",
       "       'device_mobileDeviceInfo', 'device_mobileDeviceMarketingName',\n",
       "       'device_flashVersion', 'device_language', 'device_screenColors',\n",
       "       'device_screenResolution', 'device_deviceCategory',\n",
       "       'geoNetwork_continent', 'geoNetwork_subContinent', 'geoNetwork_country',\n",
       "       'geoNetwork_region', 'geoNetwork_metro', 'geoNetwork_city',\n",
       "       'geoNetwork_cityId', 'geoNetwork_networkDomain', 'geoNetwork_latitude',\n",
       "       'geoNetwork_longitude', 'geoNetwork_networkLocation', 'totals_visits',\n",
       "       'totals_hits', 'totals_pageviews', 'totals_bounces', 'totals_newVisits',\n",
       "       'totals_sessionQualityDim', 'totals_timeOnSite', 'totals_transactions',\n",
       "       'totals_transactionRevenue', 'totals_totalTransactionRevenue',\n",
       "       'trafficSource_campaign', 'trafficSource_source',\n",
       "       'trafficSource_medium', 'trafficSource_keyword',\n",
       "       'trafficSource_adwordsClickInfo.criteriaParameters',\n",
       "       'trafficSource_referralPath', 'trafficSource_isTrueDirect',\n",
       "       'trafficSource_adContent', 'trafficSource_adwordsClickInfo.page',\n",
       "       'trafficSource_adwordsClickInfo.slot',\n",
       "       'trafficSource_adwordsClickInfo.gclId',\n",
       "       'trafficSource_adwordsClickInfo.adNetworkType',\n",
       "       'trafficSource_adwordsClickInfo.isVideoAd',\n",
       "       'trafficSource_campaignCode'],\n",
       "      dtype='object')"
      ]
     },
     "execution_count": 7,
     "metadata": {},
     "output_type": "execute_result"
    }
   ],
   "source": [
    "df_train.columns"
   ]
  },
  {
   "cell_type": "code",
   "execution_count": 8,
   "metadata": {},
   "outputs": [],
   "source": [
    "feature_list = [\n",
    "    \"fullVisitorId\",\n",
    "    \"date\",\n",
    "    \"visitNumber\",  # exponential distribution\n",
    "    \"VisitsStartTime\",\n",
    "    \"channelGrouping\",\n",
    "    \"socialEngagementType\",\n",
    "    \"device_browser\",\n",
    "    \"device_operatingSystem\",\n",
    "    \"device_isMobile\",\n",
    "    \"device_deviceCategory\",\n",
    "    \"geoNetwork_continent\",\n",
    "    \"geoNetwork_subcontinent\",\n",
    "    \"geoNetwork_country\",\n",
    "    \"geoNetwork_region\",\n",
    "    \"geoNetwork_city\",\n",
    "    \"geoNetwork_metro\",\n",
    "    \"geoNetwork_networkDomain\",\n",
    "    \"geoNetwork_sessionQualityDim\",\n",
    "    \"geoNetwork_timeOnSite\",\n",
    "    \"geoNetwork_transactions\",\n",
    "    \"trafficSource_campaign\",\n",
    "    \"trafficSource_soure\",\n",
    "    \"trafficSource_medium\",\n",
    "    \"trafficSource_keyword\",\n",
    "    \"trafficSource_referralPath\",\n",
    "    \"trafficSource_isTrueDirect\",\n",
    "    \"trafficSource_adwordsClickInfo.page\",\n",
    "    \"trafficSource_adwordsClickInfo.slot\",\n",
    "    \"trafficSource_adwordsClickInfo.adNetworkType\",\n",
    "    \"trafficSource_isVideoAd\",\n",
    "]"
   ]
  },
  {
   "cell_type": "code",
   "execution_count": 9,
   "metadata": {},
   "outputs": [],
   "source": [
    "\"\"\"\n",
    "In this section of code, we are doing the following steps as part of preprocessing.\n",
    "1. filling the boolean features missing value with 0\n",
    "2. from POSIX timestamp to datetime\n",
    "3. from integer date to datetime date\n",
    "\"\"\"\n",
    "\n",
    "df_train[\"date\"] = pd.to_datetime(df_train[\"date\"], format=\"%Y%m%d\")\n",
    "df_train[\"visitStartTime\"] = df_train[\"visitStartTime\"].apply(datetime.fromtimestamp)\n",
    "\n",
    "df_train[\"totals_newVisits\"] = df_train[\"totals_newVisits\"].fillna(0)\n",
    "df_train[\"totals_bounces\"] = df_train[\"totals_bounces\"].fillna(0)\n",
    "df_train[\"trafficSource_isTrueDirect\"] = df_train[\"trafficSource_isTrueDirect\"].fillna(\n",
    "    0\n",
    ")\n",
    "df_train[\"device_isMobile\"] = df_train[\"device_isMobile\"].map({True: 1, False: 0})\n",
    "# df_train[\"totals_timeOnSite\"] = df_train[\"totals_timeOnSite\"].fillna(0)"
   ]
  },
  {
   "cell_type": "markdown",
   "metadata": {},
   "source": [
    "### Q: Why are we using log(1+x) transformation compared to log(x)?\n",
    "#### A: We use log(1+x) as log transformation as it is conditioned better near 0 which means log (1+x) will vary from 0 to +inf whereas log(x) varies -inf to +inf. This gives us a target that is easier to work with in regression problems. The non-zero values would follow a normal distribution in both cases."
   ]
  },
  {
   "cell_type": "code",
   "execution_count": 10,
   "metadata": {},
   "outputs": [
    {
     "name": "stdout",
     "output_type": "stream",
     "text": [
      "count    200000.000000\n",
      "mean          0.192851\n",
      "std           1.846793\n",
      "min           0.000000\n",
      "25%           0.000000\n",
      "50%           0.000000\n",
      "75%           0.000000\n",
      "max          22.427650\n",
      "Name: target, dtype: float64\n"
     ]
    },
    {
     "data": {
      "image/png": "[encoded data removed]",
      "text/plain": [
       "<Figure size 640x480 with 1 Axes>"
      ]
     },
     "metadata": {},
     "output_type": "display_data"
    }
   ],
   "source": [
    "df_train[\"target\"] = np.log1p(\n",
    "    df_train[\"totals_transactionRevenue\"].fillna(0).astype(\"float\")\n",
    ")\n",
    "\n",
    "sns.histplot(df_train[df_train.target > 0][\"target\"], kde=True)\n",
    "print(df_train.target.describe())"
   ]
  },
  {
   "cell_type": "code",
   "execution_count": 11,
   "metadata": {},
   "outputs": [
    {
     "name": "stdout",
     "output_type": "stream",
     "text": [
      "count    2167.000000\n",
      "mean       17.798869\n",
      "std         1.188319\n",
      "min        13.997832\n",
      "25%        17.000822\n",
      "50%        17.686086\n",
      "75%        18.475311\n",
      "max        22.427650\n",
      "Name: target, dtype: float64\n"
     ]
    },
    {
     "data": {
      "image/png": "[encoded data removed]",
      "text/plain": [
       "<Figure size 640x480 with 1 Axes>"
      ]
     },
     "metadata": {},
     "output_type": "display_data"
    }
   ],
   "source": [
    "df_train[\"target\"] = np.log(df_train[\"totals_transactionRevenue\"].astype(\"float\"))\n",
    "# we use log(1+x) as log transformation as it is conditioned better near 0\n",
    "\n",
    "sns.histplot(df_train[df_train.target > 0][\"target\"], kde=True)\n",
    "print(df_train.target.describe())"
   ]
  },
  {
   "cell_type": "code",
   "execution_count": 12,
   "metadata": {},
   "outputs": [],
   "source": [
    "df_train[\"totals_transactionRevenue\"] = df_train.totals_transactionRevenue.astype(\n",
    "    \"float\"\n",
    ")\n",
    "df_train[\"target\"] = np.log1p(df_train[\"totals_transactionRevenue\"])"
   ]
  },
  {
   "cell_type": "code",
   "execution_count": 13,
   "metadata": {},
   "outputs": [
    {
     "name": "stdout",
     "output_type": "stream",
     "text": [
      "Total Visits with non-zero Revenue = 1.08%\n"
     ]
    }
   ],
   "source": [
    "revenue = np.round(100 * df_train.target.count() / df_train.shape[0], 2)\n",
    "print(f\"Total Visits with non-zero Revenue = {revenue}%\")"
   ]
  },
  {
   "cell_type": "code",
   "execution_count": 14,
   "metadata": {},
   "outputs": [],
   "source": [
    "# df_train[\"device_browser\"] = np.where((df_train.totals_transactionRevenue==0) | (df_train.totals_transactionRevenue.isna()),\n",
    "#                                       \"(Others)\",\n",
    "#                                       df_train.device_browser)\n",
    "# df_train[\"device_browser\"].value_counts()"
   ]
  },
  {
   "cell_type": "markdown",
   "metadata": {},
   "source": [
    "### Q: Through what channel are we getting most revenue generating footprints and what channel has the most generous customers?\n",
    "#### A: Referrals is the channel getting most number of revenue generaring footprints contributing 48% of the total revenue, while organic search is getting us the most traffic. Visits coming Direct to the store are spending the most amount of dollars per order."
   ]
  },
  {
   "cell_type": "code",
   "execution_count": 15,
   "metadata": {},
   "outputs": [],
   "source": [
    "aggregations = {\n",
    "    \"fullVisitorId\": \"count\",\n",
    "    \"totals_totalTransactionRevenue\": \"count\",\n",
    "    \"totals_transactionRevenue\": \"sum\",\n",
    "}\n",
    "col_names = [\"Visitors\", \"VisitorsWithRevenue\", \"TotalRevenue\"]\n",
    "\n",
    "# ChannelGrouping\n",
    "channel = df_train.groupby(\"channelGrouping\").agg(aggregations)\n",
    "channel.columns = col_names\n",
    "channel[\"Visitors\"] = np.where(channel[\"Visitors\"] == 0, 1, channel[\"Visitors\"])\n",
    "channel[\"VisitorsWithRevenue\"] = np.where(\n",
    "    channel[\"VisitorsWithRevenue\"] == 0, 1, channel[\"VisitorsWithRevenue\"]\n",
    ")\n",
    "channel[\"revenuePerVisit\"] = np.round(channel[\"TotalRevenue\"] / channel[\"Visitors\"], 2)\n",
    "channel[\"spendPerRevenueVisit\"] = np.round(\n",
    "    channel[\"TotalRevenue\"] / channel[\"VisitorsWithRevenue\"], 2\n",
    ")\n",
    "channel.sort_values(by=\"Visitors\", ascending=False, inplace=True)\n",
    "\n",
    "# DeviceBrowser\n",
    "browser = df_train.groupby(\"device_browser\").agg(aggregations)\n",
    "browser.index = np.where(\n",
    "    browser.totals_transactionRevenue == 0, \"(Others)\", browser.index\n",
    ")\n",
    "browser = browser.groupby(browser.index).agg(\n",
    "    {\n",
    "        \"fullVisitorId\": \"sum\",\n",
    "        \"totals_totalTransactionRevenue\": \"sum\",\n",
    "        \"totals_transactionRevenue\": \"sum\",\n",
    "    }\n",
    ")\n",
    "browser.columns = col_names\n",
    "browser[\"Visitors\"] = np.where(browser[\"Visitors\"] == 0, 1, browser[\"Visitors\"])\n",
    "browser[\"VisitorsWithRevenue\"] = np.where(\n",
    "    browser[\"VisitorsWithRevenue\"] == 0, 1, browser[\"VisitorsWithRevenue\"]\n",
    ")\n",
    "browser[\"revenuePerVisit\"] = np.round(browser[\"TotalRevenue\"] / browser[\"Visitors\"], 2)\n",
    "browser[\"spendPerRevenueVisit\"] = np.round(\n",
    "    browser[\"TotalRevenue\"] / browser[\"VisitorsWithRevenue\"], 2\n",
    ")\n",
    "browser.sort_values(by=\"Visitors\", ascending=False, inplace=True)\n",
    "\n",
    "# OperatingSystem\n",
    "operating_system = df_train.groupby(\"device_operatingSystem\").agg(aggregations)\n",
    "operating_system.columns = col_names\n",
    "operating_system[\"Visitors\"] = np.where(\n",
    "    operating_system[\"Visitors\"] == 0, 1, operating_system[\"Visitors\"]\n",
    ")\n",
    "operating_system[\"VisitorsWithRevenue\"] = np.where(\n",
    "    operating_system[\"VisitorsWithRevenue\"] == 0,\n",
    "    1,\n",
    "    operating_system[\"VisitorsWithRevenue\"],\n",
    ")\n",
    "operating_system[\"revenuePerVisit\"] = np.round(\n",
    "    operating_system[\"TotalRevenue\"] / operating_system[\"Visitors\"], 2\n",
    ")\n",
    "operating_system[\"spendPerRevenueVisit\"] = np.round(\n",
    "    operating_system[\"TotalRevenue\"] / operating_system[\"VisitorsWithRevenue\"], 2\n",
    ")\n",
    "operating_system.sort_values(by=\"Visitors\", ascending=False, inplace=True)\n",
    "\n",
    "\n",
    "# DeviceCategory\n",
    "device = df_train.groupby(\"device_deviceCategory\").agg(aggregations)\n",
    "device.columns = col_names\n",
    "device[\"Visitors\"] = np.where(device[\"Visitors\"] == 0, 1, device[\"Visitors\"])\n",
    "device[\"VisitorsWithRevenue\"] = np.where(\n",
    "    device[\"VisitorsWithRevenue\"] == 0,\n",
    "    1,\n",
    "    device[\"VisitorsWithRevenue\"],\n",
    ")\n",
    "device[\"revenuePerVisit\"] = np.round(device[\"TotalRevenue\"] / device[\"Visitors\"], 2)\n",
    "device[\"spendPerRevenueVisit\"] = np.round(\n",
    "    device[\"TotalRevenue\"] / device[\"VisitorsWithRevenue\"], 2\n",
    ")\n",
    "device.sort_values(by=\"Visitors\", ascending=False, inplace=True)\n",
    "\n",
    "# Country\n",
    "country = df_train.groupby(\"geoNetwork_country\").agg(aggregations)\n",
    "country.index = np.where(\n",
    "    country.totals_transactionRevenue == 0, \"(Others)\", country.index\n",
    ")\n",
    "country = country.groupby(country.index).agg(\n",
    "    {\n",
    "        \"fullVisitorId\": \"sum\",\n",
    "        \"totals_totalTransactionRevenue\": \"sum\",\n",
    "        \"totals_transactionRevenue\": \"sum\",\n",
    "    }\n",
    ")\n",
    "country.columns = col_names\n",
    "country[\"Visitors\"] = np.where(country[\"Visitors\"] == 0, 1, country[\"Visitors\"])\n",
    "country[\"VisitorsWithRevenue\"] = np.where(\n",
    "    country[\"VisitorsWithRevenue\"] == 0,\n",
    "    1,\n",
    "    country[\"VisitorsWithRevenue\"],\n",
    ")\n",
    "country[\"revenuePerVisit\"] = np.round(country[\"TotalRevenue\"] / country[\"Visitors\"], 2)\n",
    "country[\"spendPerRevenueVisit\"] = np.round(\n",
    "    country[\"TotalRevenue\"] / country[\"VisitorsWithRevenue\"], 2\n",
    ")\n",
    "country.sort_values(by=\"Visitors\", ascending=False, inplace=True)\n",
    "\n",
    "# Region\n",
    "region = df_train.groupby(\"geoNetwork_region\").agg(aggregations)\n",
    "region.index = np.where(region.totals_transactionRevenue == 0, \"(Others)\", region.index)\n",
    "region = region.groupby(region.index).agg(\n",
    "    {\n",
    "        \"fullVisitorId\": \"sum\",\n",
    "        \"totals_totalTransactionRevenue\": \"sum\",\n",
    "        \"totals_transactionRevenue\": \"sum\",\n",
    "    }\n",
    ")\n",
    "region.columns = col_names\n",
    "region[\"Visitors\"] = np.where(region[\"Visitors\"] == 0, 1, region[\"Visitors\"])\n",
    "region[\"VisitorsWithRevenue\"] = np.where(\n",
    "    region[\"VisitorsWithRevenue\"] == 0,\n",
    "    1,\n",
    "    region[\"VisitorsWithRevenue\"],\n",
    ")\n",
    "region[\"revenuePerVisit\"] = np.round(region[\"TotalRevenue\"] / region[\"Visitors\"], 2)\n",
    "region[\"spendPerRevenueVisit\"] = np.round(\n",
    "    region[\"TotalRevenue\"] / region[\"VisitorsWithRevenue\"], 2\n",
    ")\n",
    "region.sort_values(by=\"Visitors\", ascending=False, inplace=True)\n",
    "\n",
    "# TrafficSource\n",
    "traffic = df_train.groupby(\"trafficSource_source\").agg(aggregations)\n",
    "traffic.index = np.where(\n",
    "    traffic.totals_transactionRevenue == 0, \"(Others)\", traffic.index\n",
    ")\n",
    "traffic = traffic.groupby(traffic.index).agg(\n",
    "    {\n",
    "        \"fullVisitorId\": \"sum\",\n",
    "        \"totals_totalTransactionRevenue\": \"sum\",\n",
    "        \"totals_transactionRevenue\": \"sum\",\n",
    "    }\n",
    ")\n",
    "traffic.columns = col_names\n",
    "traffic[\"Visitors\"] = np.where(traffic[\"Visitors\"] == 0, 1, traffic[\"Visitors\"])\n",
    "traffic[\"VisitorsWithRevenue\"] = np.where(\n",
    "    traffic[\"VisitorsWithRevenue\"] == 0,\n",
    "    1,\n",
    "    traffic[\"VisitorsWithRevenue\"],\n",
    ")\n",
    "traffic[\"revenuePerVisit\"] = np.round(traffic[\"TotalRevenue\"] / traffic[\"Visitors\"], 2)\n",
    "traffic[\"spendPerRevenueVisit\"] = np.round(\n",
    "    traffic[\"TotalRevenue\"] / traffic[\"VisitorsWithRevenue\"], 2\n",
    ")\n",
    "traffic.sort_values(by=\"Visitors\", ascending=False, inplace=True)"
   ]
  },
  {
   "cell_type": "code",
   "execution_count": 16,
   "metadata": {},
   "outputs": [
    {
     "data": {
      "text/plain": [
       "channelGrouping\n",
       "Referral    48.01379\n",
       "Name: TotalRevenue, dtype: float64"
      ]
     },
     "execution_count": 16,
     "metadata": {},
     "output_type": "execute_result"
    }
   ],
   "source": [
    "100 * channel[channel.TotalRevenue == channel.TotalRevenue.max()][\n",
    "    \"TotalRevenue\"\n",
    "] / channel.TotalRevenue.sum()"
   ]
  },
  {
   "cell_type": "code",
   "execution_count": 17,
   "metadata": {},
   "outputs": [
    {
     "data": {
      "application/vnd.plotly.v1+json": {
       "config": {
        "linkText": "Export to plot.ly",
        "plotlyServerURL": "https://plot.ly",
        "showLink": false
       },
       "data": [
        {
         "marker": {
          "color": "rgba(246, 78, 139, 0.6)"
         },
         "name": "Channel",
         "orientation": "h",
         "showlegend": true,
         "type": "bar",
         "x": [
          7,
          3927,
          5570,
          6057,
          24391,
          29889,
          43176,
          86983
         ],
         "xaxis": "x",
         "y": [
          "(Other)",
          "Affiliates",
          "Paid Search",
          "Display",
          "Referral",
          "Direct",
          "Social",
          "Organic Search"
         ],
         "yaxis": "y"
        },
        {
         "marker": {
          "color": "rgba(246, 78, 139, 0.6)"
         },
         "name": "",
         "orientation": "h",
         "showlegend": false,
         "type": "bar",
         "x": [
          1,
          1,
          100,
          25,
          1019,
          365,
          15,
          643
         ],
         "xaxis": "x2",
         "y": [
          "(Other)",
          "Affiliates",
          "Paid Search",
          "Display",
          "Referral",
          "Direct",
          "Social",
          "Organic Search"
         ],
         "yaxis": "y2"
        },
        {
         "marker": {
          "color": "rgba(246, 78, 139, 0.6)"
         },
         "name": "",
         "orientation": "h",
         "showlegend": false,
         "type": "bar",
         "x": [
          0,
          0,
          1596269.3,
          553899.62,
          5207843.88,
          2180083.64,
          15501.2,
          683557.71
         ],
         "xaxis": "x3",
         "y": [
          "(Other)",
          "Affiliates",
          "Paid Search",
          "Display",
          "Referral",
          "Direct",
          "Social",
          "Organic Search"
         ],
         "yaxis": "y3"
        },
        {
         "marker": {
          "color": "rgba(246, 78, 139, 0.6)"
         },
         "name": "",
         "orientation": "h",
         "showlegend": false,
         "type": "bar",
         "x": [
          0,
          0,
          88912200,
          134198800,
          124656054.96,
          178521972.6,
          44618666.67,
          92469517.88
         ],
         "xaxis": "x4",
         "y": [
          "(Other)",
          "Affiliates",
          "Paid Search",
          "Display",
          "Referral",
          "Direct",
          "Social",
          "Organic Search"
         ],
         "yaxis": "y4"
        },
        {
         "marker": {
          "color": "rgba(36, 70, 139, 0.6)"
         },
         "name": "Browser",
         "orientation": "h",
         "showlegend": true,
         "type": "bar",
         "x": [
          1498,
          1731,
          2369,
          4105,
          4106,
          4483,
          7486,
          37122,
          137100
         ],
         "xaxis": "x5",
         "y": [
          "Safari (in-app)",
          "Samsung Internet",
          "Edge",
          "Android Webview",
          "Internet Explorer",
          "(Others)",
          "Firefox",
          "Safari",
          "Chrome"
         ],
         "yaxis": "y5"
        },
        {
         "marker": {
          "color": "rgba(36, 70, 139, 0.6)"
         },
         "name": "",
         "orientation": "h",
         "showlegend": false,
         "type": "bar",
         "x": [
          2,
          1,
          12,
          1,
          15,
          1,
          44,
          164,
          1928
         ],
         "xaxis": "x6",
         "y": [
          "Safari (in-app)",
          "Samsung Internet",
          "Edge",
          "Android Webview",
          "Internet Explorer",
          "(Others)",
          "Firefox",
          "Safari",
          "Chrome"
         ],
         "yaxis": "y6"
        },
        {
         "marker": {
          "color": "rgba(36, 70, 139, 0.6)"
         },
         "name": "",
         "orientation": "h",
         "showlegend": false,
         "type": "bar",
         "x": [
          18651.54,
          6915.08,
          132975.94,
          5595.62,
          555825.62,
          0,
          927019.77,
          267926.57,
          1787109.04
         ],
         "xaxis": "x7",
         "y": [
          "Safari (in-app)",
          "Samsung Internet",
          "Edge",
          "Android Webview",
          "Internet Explorer",
          "(Others)",
          "Firefox",
          "Safari",
          "Chrome"
         ],
         "yaxis": "y7"
        },
        {
         "marker": {
          "color": "rgba(36, 70, 139, 0.6)"
         },
         "name": "",
         "orientation": "h",
         "showlegend": false,
         "type": "bar",
         "x": [
          13970000,
          11970000,
          26251666.67,
          22970000,
          152148000,
          0,
          157719772.73,
          60646158.54,
          127081250
         ],
         "xaxis": "x8",
         "y": [
          "Safari (in-app)",
          "Samsung Internet",
          "Edge",
          "Android Webview",
          "Internet Explorer",
          "(Others)",
          "Firefox",
          "Safari",
          "Chrome"
         ],
         "yaxis": "y8"
        },
        {
         "marker": {
          "color": "rgba(136, 10, 139, 0.6)"
         },
         "name": "Operating System",
         "orientation": "h",
         "showlegend": true,
         "type": "bar",
         "x": [
          1,
          1,
          1,
          2,
          2,
          5,
          12,
          16,
          18,
          19,
          39,
          84,
          107,
          219,
          1357,
          5965,
          7550,
          24981,
          34605,
          52342,
          72674
         ],
         "xaxis": "x9",
         "y": [
          "SymbianOS",
          "Nokia",
          "Nintendo 3DS",
          "Playstation Vita",
          "FreeBSD",
          "Nintendo WiiU",
          "Firefox OS",
          "OS/2",
          "Nintendo Wii",
          "Xbox",
          "BlackBerry",
          "Tizen",
          "Samsung",
          "Windows Phone",
          "(not set)",
          "Chrome OS",
          "Linux",
          "iOS",
          "Android",
          "Macintosh",
          "Windows"
         ],
         "yaxis": "y9"
        },
        {
         "marker": {
          "color": "rgba(136, 10, 139, 0.6)"
         },
         "name": "",
         "orientation": "h",
         "showlegend": false,
         "type": "bar",
         "x": [
          1,
          1,
          1,
          1,
          1,
          1,
          1,
          1,
          1,
          1,
          1,
          1,
          1,
          1,
          1,
          201,
          143,
          109,
          91,
          1191,
          431
         ],
         "xaxis": "x10",
         "y": [
          "SymbianOS",
          "Nokia",
          "Nintendo 3DS",
          "Playstation Vita",
          "FreeBSD",
          "Nintendo WiiU",
          "Firefox OS",
          "OS/2",
          "Nintendo Wii",
          "Xbox",
          "BlackBerry",
          "Tizen",
          "Samsung",
          "Windows Phone",
          "(not set)",
          "Chrome OS",
          "Linux",
          "iOS",
          "Android",
          "Macintosh",
          "Windows"
         ],
         "yaxis": "y10"
        },
        {
         "marker": {
          "color": "rgba(136, 10, 139, 0.6)"
         },
         "name": "",
         "orientation": "h",
         "showlegend": false,
         "type": "bar",
         "x": [
          0,
          0,
          0,
          0,
          0,
          0,
          0,
          0,
          0,
          0,
          0,
          0,
          0,
          120547.95,
          0,
          5957614.42,
          1014327.15,
          181542.77,
          279980.35,
          2763635.89,
          859435.29
         ],
         "xaxis": "x11",
         "y": [
          "SymbianOS",
          "Nokia",
          "Nintendo 3DS",
          "Playstation Vita",
          "FreeBSD",
          "Nintendo WiiU",
          "Firefox OS",
          "OS/2",
          "Nintendo Wii",
          "Xbox",
          "BlackBerry",
          "Tizen",
          "Samsung",
          "Windows Phone",
          "(not set)",
          "Chrome OS",
          "Linux",
          "iOS",
          "Android",
          "Macintosh",
          "Windows"
         ],
         "yaxis": "y11"
        },
        {
         "marker": {
          "color": "rgba(136, 10, 139, 0.6)"
         },
         "name": "",
         "orientation": "h",
         "showlegend": false,
         "type": "bar",
         "x": [
          0,
          0,
          0,
          0,
          0,
          0,
          0,
          0,
          0,
          0,
          0,
          0,
          0,
          26400000,
          0,
          176801840.8,
          53553636.36,
          41606605.5,
          106469450.55,
          121456112.51,
          144915545.24
         ],
         "xaxis": "x12",
         "y": [
          "SymbianOS",
          "Nokia",
          "Nintendo 3DS",
          "Playstation Vita",
          "FreeBSD",
          "Nintendo WiiU",
          "Firefox OS",
          "OS/2",
          "Nintendo Wii",
          "Xbox",
          "BlackBerry",
          "Tizen",
          "Samsung",
          "Windows Phone",
          "(not set)",
          "Chrome OS",
          "Linux",
          "iOS",
          "Android",
          "Macintosh",
          "Windows"
         ],
         "yaxis": "y12"
        },
        {
         "marker": {
          "color": "rgba(136, 0, 0, 0.6)"
         },
         "name": "Device Category",
         "orientation": "h",
         "showlegend": true,
         "type": "bar",
         "x": [
          7122,
          54550,
          138328
         ],
         "xaxis": "x13",
         "y": [
          "tablet",
          "mobile",
          "desktop"
         ],
         "yaxis": "y13"
        },
        {
         "marker": {
          "color": "rgba(136, 0, 0, 0.6)"
         },
         "name": "",
         "orientation": "h",
         "showlegend": false,
         "type": "bar",
         "x": [
          33,
          173,
          1961
         ],
         "xaxis": "x14",
         "y": [
          "tablet",
          "mobile",
          "desktop"
         ],
         "yaxis": "y14"
        },
        {
         "marker": {
          "color": "rgba(136, 0, 0, 0.6)"
         },
         "name": "",
         "orientation": "h",
         "showlegend": false,
         "type": "bar",
         "x": [
          260746.98,
          232869.48,
          1807286.59
         ],
         "xaxis": "x15",
         "y": [
          "tablet",
          "mobile",
          "desktop"
         ],
         "yaxis": "y15"
        },
        {
         "marker": {
          "color": "rgba(136, 0, 0, 0.6)"
         },
         "name": "",
         "orientation": "h",
         "showlegend": false,
         "type": "bar",
         "x": [
          56273939.39,
          73427919.08,
          127485130.04
         ],
         "xaxis": "x16",
         "y": [
          "tablet",
          "mobile",
          "desktop"
         ],
         "yaxis": "y16"
        },
        {
         "marker": {
          "color": "rgba(0, 70, 0, 0.6)"
         },
         "name": "Country",
         "orientation": "h",
         "showlegend": true,
         "type": "bar",
         "x": [
          5,
          5,
          148,
          179,
          351,
          427,
          468,
          557,
          631,
          836,
          936,
          943,
          1028,
          1095,
          1100,
          1116,
          1147,
          1169,
          1265,
          1282,
          1683,
          2074,
          2796,
          2859,
          3127,
          4153,
          4208,
          4409,
          6080,
          8543,
          12512,
          50242,
          82626
         ],
         "xaxis": "x17",
         "y": [
          "Belize",
          "St. Lucia",
          "Puerto Rico",
          "Finland",
          "Venezuela",
          "Chile",
          "New Zealand",
          "Hungary",
          "Portugal",
          "China",
          "Hong Kong",
          "Switzerland",
          "Argentina",
          "Israel",
          "Colombia",
          "Sweden",
          "Belgium",
          "Ukraine",
          "Ireland",
          "South Korea",
          "Philippines",
          "Indonesia",
          "Australia",
          "Taiwan",
          "Mexico",
          "Japan",
          "Brazil",
          "Germany",
          "Canada",
          "United Kingdom",
          "India",
          "(Others)",
          "United States"
         ],
         "yaxis": "y17"
        },
        {
         "marker": {
          "color": "rgba(0, 70, 0, 0.6)"
         },
         "name": "",
         "orientation": "h",
         "showlegend": false,
         "type": "bar",
         "x": [
          1,
          1,
          3,
          2,
          12,
          2,
          2,
          1,
          1,
          2,
          2,
          1,
          3,
          2,
          2,
          2,
          1,
          1,
          2,
          1,
          2,
          4,
          1,
          5,
          4,
          1,
          1,
          1,
          41,
          3,
          2,
          1,
          2058
         ],
         "xaxis": "x18",
         "y": [
          "Belize",
          "St. Lucia",
          "Puerto Rico",
          "Finland",
          "Venezuela",
          "Chile",
          "New Zealand",
          "Hungary",
          "Portugal",
          "China",
          "Hong Kong",
          "Switzerland",
          "Argentina",
          "Israel",
          "Colombia",
          "Sweden",
          "Belgium",
          "Ukraine",
          "Ireland",
          "South Korea",
          "Philippines",
          "Indonesia",
          "Australia",
          "Taiwan",
          "Mexico",
          "Japan",
          "Brazil",
          "Germany",
          "Canada",
          "United Kingdom",
          "India",
          "(Others)",
          "United States"
         ],
         "yaxis": "y18"
        },
        {
         "marker": {
          "color": "rgba(0, 70, 0, 0.6)"
         },
         "name": "",
         "orientation": "h",
         "showlegend": false,
         "type": "bar",
         "x": [
          8396000,
          2790000,
          661756.76,
          329497.21,
          5310028.49,
          289882.9,
          149487.18,
          16104.13,
          927385.1,
          65131.58,
          909284.19,
          100201.48,
          233054.47,
          69360.73,
          292681.82,
          67732.97,
          38474.28,
          22027.37,
          34450.59,
          160039,
          87593.58,
          325515.91,
          5715.31,
          126680.66,
          587473.62,
          6137.73,
          9025.67,
          15645.27,
          589123.36,
          14381.36,
          16659.21,
          0,
          3056892.14
         ],
         "xaxis": "x19",
         "y": [
          "Belize",
          "St. Lucia",
          "Puerto Rico",
          "Finland",
          "Venezuela",
          "Chile",
          "New Zealand",
          "Hungary",
          "Portugal",
          "China",
          "Hong Kong",
          "Switzerland",
          "Argentina",
          "Israel",
          "Colombia",
          "Sweden",
          "Belgium",
          "Ukraine",
          "Ireland",
          "South Korea",
          "Philippines",
          "Indonesia",
          "Australia",
          "Taiwan",
          "Mexico",
          "Japan",
          "Brazil",
          "Germany",
          "Canada",
          "United Kingdom",
          "India",
          "(Others)",
          "United States"
         ],
         "yaxis": "y19"
        },
        {
         "marker": {
          "color": "rgba(0, 70, 0, 0.6)"
         },
         "name": "",
         "orientation": "h",
         "showlegend": false,
         "type": "bar",
         "x": [
          41980000,
          13950000,
          32646666.67,
          29490000,
          155318333.33,
          61890000,
          34980000,
          8970000,
          585180000,
          27225000,
          425545000,
          94490000,
          79860000,
          37975000,
          160975000,
          37795000,
          44130000,
          25750000,
          21790000,
          205170000,
          73710000,
          168780000,
          15980000,
          72436000,
          459257500,
          25490000,
          37980000,
          68980000,
          87362682.93,
          40953333.33,
          104220000,
          0,
          122730208.94
         ],
         "xaxis": "x20",
         "y": [
          "Belize",
          "St. Lucia",
          "Puerto Rico",
          "Finland",
          "Venezuela",
          "Chile",
          "New Zealand",
          "Hungary",
          "Portugal",
          "China",
          "Hong Kong",
          "Switzerland",
          "Argentina",
          "Israel",
          "Colombia",
          "Sweden",
          "Belgium",
          "Ukraine",
          "Ireland",
          "South Korea",
          "Philippines",
          "Indonesia",
          "Australia",
          "Taiwan",
          "Mexico",
          "Japan",
          "Brazil",
          "Germany",
          "Canada",
          "United Kingdom",
          "India",
          "(Others)",
          "United States"
         ],
         "yaxis": "y20"
        },
        {
         "marker": {
          "color": "rgba(0, 0, 130, 0.6)"
         },
         "name": "Region",
         "orientation": "h",
         "showlegend": true,
         "type": "bar",
         "x": [
          16,
          16,
          21,
          27,
          28,
          50,
          100,
          105,
          108,
          118,
          123,
          157,
          160,
          210,
          221,
          222,
          223,
          227,
          250,
          270,
          321,
          413,
          501,
          534,
          579,
          626,
          637,
          648,
          660,
          683,
          692,
          808,
          848,
          1281,
          1300,
          1450,
          1740,
          1819,
          2280,
          3004,
          5776,
          5964,
          24334,
          31055,
          109395
         ],
         "xaxis": "x21",
         "y": [
          "Nebraska",
          "Oklahoma",
          "Utah",
          "South Carolina",
          "Zulia",
          "Minnesota",
          "Santiago Metropolitan Region",
          "New Jersey",
          "Tennessee",
          "Arizona",
          "Dublin City",
          "Oregon",
          "State of Rio de Janeiro",
          "Florida",
          "Zurich",
          "Alberta",
          "Nevada",
          "Stockholm County",
          "Colorado",
          "New Taipei City",
          "North Carolina",
          "Virginia",
          "Michigan",
          "Pennsylvania",
          "Massachusetts",
          "Georgia",
          "Seoul",
          "District of Columbia",
          "Victoria",
          "Mexico City",
          "Tel Aviv District",
          "County Dublin",
          "Jakarta",
          "Taipei City",
          "Karnataka",
          "Ontario",
          "Washington",
          "Illinois",
          "Texas",
          "England",
          "New York",
          "(not set)",
          "California",
          "(Others)",
          "not available in demo dataset"
         ],
         "yaxis": "y21"
        },
        {
         "marker": {
          "color": "rgba(0, 0, 130, 0.6)"
         },
         "name": "",
         "orientation": "h",
         "showlegend": false,
         "type": "bar",
         "x": [
          3,
          1,
          2,
          2,
          8,
          2,
          2,
          4,
          1,
          2,
          1,
          4,
          2,
          1,
          1,
          3,
          2,
          1,
          5,
          1,
          6,
          8,
          28,
          13,
          23,
          13,
          1,
          15,
          1,
          3,
          1,
          1,
          4,
          2,
          1,
          16,
          62,
          82,
          55,
          1,
          291,
          5,
          634,
          1,
          853
         ],
         "xaxis": "x22",
         "y": [
          "Nebraska",
          "Oklahoma",
          "Utah",
          "South Carolina",
          "Zulia",
          "Minnesota",
          "Santiago Metropolitan Region",
          "New Jersey",
          "Tennessee",
          "Arizona",
          "Dublin City",
          "Oregon",
          "State of Rio de Janeiro",
          "Florida",
          "Zurich",
          "Alberta",
          "Nevada",
          "Stockholm County",
          "Colorado",
          "New Taipei City",
          "North Carolina",
          "Virginia",
          "Michigan",
          "Pennsylvania",
          "Massachusetts",
          "Georgia",
          "Seoul",
          "District of Columbia",
          "Victoria",
          "Mexico City",
          "Tel Aviv District",
          "County Dublin",
          "Jakarta",
          "Taipei City",
          "Karnataka",
          "Ontario",
          "Washington",
          "Illinois",
          "Texas",
          "England",
          "New York",
          "(not set)",
          "California",
          "(Others)",
          "not available in demo dataset"
         ],
         "yaxis": "y22"
        },
        {
         "marker": {
          "color": "rgba(0, 0, 130, 0.6)"
         },
         "name": "",
         "orientation": "h",
         "showlegend": false,
         "type": "bar",
         "x": [
          6742500,
          2685000,
          2902857.14,
          3756666.67,
          51603571.43,
          2438400,
          1237800,
          4283238.1,
          12546296.3,
          1011016.95,
          81219.51,
          1526114.65,
          552312.5,
          428428.57,
          427556.56,
          716396.4,
          470717.49,
          275770.93,
          801360,
          176185.19,
          2760404.98,
          529104.12,
          5919041.92,
          2334569.29,
          3751122.63,
          3938067.09,
          322087.91,
          2379506.17,
          24212.12,
          2615021.96,
          68020.23,
          41571.78,
          796132.08,
          75925.06,
          15807.69,
          881696.55,
          3951643.68,
          8453886.75,
          1644197.37,
          19963.38,
          6543661.7,
          162412.81,
          3113493.05,
          0,
          944172.95
         ],
         "xaxis": "x23",
         "y": [
          "Nebraska",
          "Oklahoma",
          "Utah",
          "South Carolina",
          "Zulia",
          "Minnesota",
          "Santiago Metropolitan Region",
          "New Jersey",
          "Tennessee",
          "Arizona",
          "Dublin City",
          "Oregon",
          "State of Rio de Janeiro",
          "Florida",
          "Zurich",
          "Alberta",
          "Nevada",
          "Stockholm County",
          "Colorado",
          "New Taipei City",
          "North Carolina",
          "Virginia",
          "Michigan",
          "Pennsylvania",
          "Massachusetts",
          "Georgia",
          "Seoul",
          "District of Columbia",
          "Victoria",
          "Mexico City",
          "Tel Aviv District",
          "County Dublin",
          "Jakarta",
          "Taipei City",
          "Karnataka",
          "Ontario",
          "Washington",
          "Illinois",
          "Texas",
          "England",
          "New York",
          "(not set)",
          "California",
          "(Others)",
          "not available in demo dataset"
         ],
         "yaxis": "y23"
        },
        {
         "marker": {
          "color": "rgba(0, 0, 130, 0.6)"
         },
         "name": "",
         "orientation": "h",
         "showlegend": false,
         "type": "bar",
         "x": [
          35960000,
          42960000,
          30480000,
          50715000,
          180612500,
          60960000,
          61890000,
          112435000,
          1355000000,
          59650000,
          9990000,
          59900000,
          44185000,
          89970000,
          94490000,
          53013333.33,
          52485000,
          62600000,
          40068000,
          47570000,
          147681666.67,
          27315000,
          105908571.43,
          95896923.08,
          94430434.78,
          189633076.92,
          205170000,
          102794666.67,
          15980000,
          595353333.33,
          47070000,
          33590000,
          168780000,
          48630000,
          20550000,
          79903750,
          110900967.74,
          187531951.22,
          68159454.55,
          59970000,
          129883814.43,
          193726000,
          119501167.19,
          0,
          121087690.5
         ],
         "xaxis": "x24",
         "y": [
          "Nebraska",
          "Oklahoma",
          "Utah",
          "South Carolina",
          "Zulia",
          "Minnesota",
          "Santiago Metropolitan Region",
          "New Jersey",
          "Tennessee",
          "Arizona",
          "Dublin City",
          "Oregon",
          "State of Rio de Janeiro",
          "Florida",
          "Zurich",
          "Alberta",
          "Nevada",
          "Stockholm County",
          "Colorado",
          "New Taipei City",
          "North Carolina",
          "Virginia",
          "Michigan",
          "Pennsylvania",
          "Massachusetts",
          "Georgia",
          "Seoul",
          "District of Columbia",
          "Victoria",
          "Mexico City",
          "Tel Aviv District",
          "County Dublin",
          "Jakarta",
          "Taipei City",
          "Karnataka",
          "Ontario",
          "Washington",
          "Illinois",
          "Texas",
          "England",
          "New York",
          "(not set)",
          "California",
          "(Others)",
          "not available in demo dataset"
         ],
         "yaxis": "y24"
        },
        {
         "marker": {
          "color": "rgba(136, 70, 0, 0.6)"
         },
         "name": "Traffic",
         "orientation": "h",
         "showlegend": true,
         "type": "bar",
         "x": [
          1,
          1,
          12,
          12,
          13,
          29,
          37,
          51,
          84,
          91,
          124,
          176,
          204,
          209,
          267,
          270,
          281,
          378,
          428,
          915,
          980,
          1029,
          11979,
          40510,
          68680,
          73239
         ],
         "xaxis": "x25",
         "y": [
          "mail.aol.com",
          "trainup.withgoogle.com",
          "pinterest.com",
          "search.xfinity.com",
          "chat.google.com",
          "connect.googleforwork.com",
          "phandroid.com",
          "duckduckgo.com",
          "dealspotr.com",
          "docs.google.com",
          "away.vk.com",
          "t.co",
          "l.facebook.com",
          "groups.google.com",
          "yahoo",
          "mail.google.com",
          "facebook.com",
          "bing",
          "reddit.com",
          "dfa",
          "google.com",
          "sites.google.com",
          "(Others)",
          "youtube.com",
          "google",
          "(direct)"
         ],
         "yaxis": "y25"
        },
        {
         "marker": {
          "color": "rgba(136, 70, 0, 0.6)"
         },
         "name": "",
         "orientation": "h",
         "showlegend": false,
         "type": "bar",
         "x": [
          1,
          1,
          1,
          1,
          1,
          1,
          2,
          2,
          7,
          1,
          1,
          1,
          3,
          5,
          4,
          13,
          2,
          3,
          1,
          20,
          2,
          8,
          1,
          1,
          460,
          1625
         ],
         "xaxis": "x26",
         "y": [
          "mail.aol.com",
          "trainup.withgoogle.com",
          "pinterest.com",
          "search.xfinity.com",
          "chat.google.com",
          "connect.googleforwork.com",
          "phandroid.com",
          "duckduckgo.com",
          "dealspotr.com",
          "docs.google.com",
          "away.vk.com",
          "t.co",
          "l.facebook.com",
          "groups.google.com",
          "yahoo",
          "mail.google.com",
          "facebook.com",
          "bing",
          "reddit.com",
          "dfa",
          "google.com",
          "sites.google.com",
          "(Others)",
          "youtube.com",
          "google",
          "(direct)"
         ],
         "yaxis": "y26"
        },
        {
         "marker": {
          "color": "rgba(136, 70, 0, 0.6)"
         },
         "name": "",
         "orientation": "h",
         "showlegend": false,
         "type": "bar",
         "x": [
          56850000,
          18990000,
          2998333.33,
          4706666.67,
          117193846.15,
          3861379.31,
          1876486.49,
          2471568.63,
          5122738.1,
          1510769.23,
          440403.23,
          499829.55,
          699264.71,
          1048468.9,
          762097.38,
          25053888.89,
          370035.59,
          4618227.51,
          18621.5,
          3450852.46,
          44877.55,
          888211.86,
          0,
          419.4,
          625097.85,
          2807208.18
         ],
         "xaxis": "x27",
         "y": [
          "mail.aol.com",
          "trainup.withgoogle.com",
          "pinterest.com",
          "search.xfinity.com",
          "chat.google.com",
          "connect.googleforwork.com",
          "phandroid.com",
          "duckduckgo.com",
          "dealspotr.com",
          "docs.google.com",
          "away.vk.com",
          "t.co",
          "l.facebook.com",
          "groups.google.com",
          "yahoo",
          "mail.google.com",
          "facebook.com",
          "bing",
          "reddit.com",
          "dfa",
          "google.com",
          "sites.google.com",
          "(Others)",
          "youtube.com",
          "google",
          "(direct)"
         ],
         "yaxis": "y27"
        },
        {
         "marker": {
          "color": "rgba(136, 70, 0, 0.6)"
         },
         "name": "",
         "orientation": "h",
         "showlegend": false,
         "type": "bar",
         "x": [
          56850000,
          18990000,
          35980000,
          56480000,
          1523520000,
          111980000,
          34715000,
          63025000,
          61472857.14,
          137480000,
          54610000,
          87970000,
          47550000,
          43826000,
          50870000,
          520350000,
          51990000,
          581896666.67,
          7970000,
          157876500,
          21990000,
          114246250,
          0,
          16990000,
          93329826.09,
          126521304.62
         ],
         "xaxis": "x28",
         "y": [
          "mail.aol.com",
          "trainup.withgoogle.com",
          "pinterest.com",
          "search.xfinity.com",
          "chat.google.com",
          "connect.googleforwork.com",
          "phandroid.com",
          "duckduckgo.com",
          "dealspotr.com",
          "docs.google.com",
          "away.vk.com",
          "t.co",
          "l.facebook.com",
          "groups.google.com",
          "yahoo",
          "mail.google.com",
          "facebook.com",
          "bing",
          "reddit.com",
          "dfa",
          "google.com",
          "sites.google.com",
          "(Others)",
          "youtube.com",
          "google",
          "(direct)"
         ],
         "yaxis": "y28"
        }
       ],
       "layout": {
        "annotations": [
         {
          "font": {
           "size": 12
          },
          "showarrow": false,
          "text": "Categorical grouping <br> Visits",
          "x": 0.06875,
          "xanchor": "center",
          "xref": "paper",
          "y": 0.9999999999999999,
          "yanchor": "bottom",
          "yref": "paper"
         },
         {
          "font": {
           "size": 12
          },
          "showarrow": false,
          "text": "Categorical grouping <br> Visits With Revenue",
          "x": 0.35624999999999996,
          "xanchor": "center",
          "xref": "paper",
          "y": 0.9999999999999999,
          "yanchor": "bottom",
          "yref": "paper"
         },
         {
          "font": {
           "size": 12
          },
          "showarrow": false,
          "text": "Categorical grouping <br> Revenue per Visit",
          "x": 0.6437499999999999,
          "xanchor": "center",
          "xref": "paper",
          "y": 0.9999999999999999,
          "yanchor": "bottom",
          "yref": "paper"
         },
         {
          "font": {
           "size": 12
          },
          "showarrow": false,
          "text": "Categorical grouping <br> Spend per Revenue Visit",
          "x": 0.93125,
          "xanchor": "center",
          "xref": "paper",
          "y": 0.9999999999999999,
          "yanchor": "bottom",
          "yref": "paper"
         }
        ],
        "height": 2000,
        "margin": {
         "b": 100,
         "t": 100
        },
        "paper_bgcolor": "rgb(233,233,233)",
        "template": {
         "data": {
          "bar": [
           {
            "error_x": {
             "color": "#2a3f5f"
            },
            "error_y": {
             "color": "#2a3f5f"
            },
            "marker": {
             "line": {
              "color": "#E5ECF6",
              "width": 0.5
             },
             "pattern": {
              "fillmode": "overlay",
              "size": 10,
              "solidity": 0.2
             }
            },
            "type": "bar"
           }
          ],
          "barpolar": [
           {
            "marker": {
             "line": {
              "color": "#E5ECF6",
              "width": 0.5
             },
             "pattern": {
              "fillmode": "overlay",
              "size": 10,
              "solidity": 0.2
             }
            },
            "type": "barpolar"
           }
          ],
          "carpet": [
           {
            "aaxis": {
             "endlinecolor": "#2a3f5f",
             "gridcolor": "white",
             "linecolor": "white",
             "minorgridcolor": "white",
             "startlinecolor": "#2a3f5f"
            },
            "baxis": {
             "endlinecolor": "#2a3f5f",
             "gridcolor": "white",
             "linecolor": "white",
             "minorgridcolor": "white",
             "startlinecolor": "#2a3f5f"
            },
            "type": "carpet"
           }
          ],
          "choropleth": [
           {
            "colorbar": {
             "outlinewidth": 0,
             "ticks": ""
            },
            "type": "choropleth"
           }
          ],
          "contour": [
           {
            "colorbar": {
             "outlinewidth": 0,
             "ticks": ""
            },
            "colorscale": [
             [
              0,
              "#0d0887"
             ],
             [
              0.1111111111111111,
              "#46039f"
             ],
             [
              0.2222222222222222,
              "#7201a8"
             ],
             [
              0.3333333333333333,
              "#9c179e"
             ],
             [
              0.4444444444444444,
              "#bd3786"
             ],
             [
              0.5555555555555556,
              "#d8576b"
             ],
             [
              0.6666666666666666,
              "#ed7953"
             ],
             [
              0.7777777777777778,
              "#fb9f3a"
             ],
             [
              0.8888888888888888,
              "#fdca26"
             ],
             [
              1,
              "#f0f921"
             ]
            ],
            "type": "contour"
           }
          ],
          "contourcarpet": [
           {
            "colorbar": {
             "outlinewidth": 0,
             "ticks": ""
            },
            "type": "contourcarpet"
           }
          ],
          "heatmap": [
           {
            "colorbar": {
             "outlinewidth": 0,
             "ticks": ""
            },
            "colorscale": [
             [
              0,
              "#0d0887"
             ],
             [
              0.1111111111111111,
              "#46039f"
             ],
             [
              0.2222222222222222,
              "#7201a8"
             ],
             [
              0.3333333333333333,
              "#9c179e"
             ],
             [
              0.4444444444444444,
              "#bd3786"
             ],
             [
              0.5555555555555556,
              "#d8576b"
             ],
             [
              0.6666666666666666,
              "#ed7953"
             ],
             [
              0.7777777777777778,
              "#fb9f3a"
             ],
             [
              0.8888888888888888,
              "#fdca26"
             ],
             [
              1,
              "#f0f921"
             ]
            ],
            "type": "heatmap"
           }
          ],
          "heatmapgl": [
           {
            "colorbar": {
             "outlinewidth": 0,
             "ticks": ""
            },
            "colorscale": [
             [
              0,
              "#0d0887"
             ],
             [
              0.1111111111111111,
              "#46039f"
             ],
             [
              0.2222222222222222,
              "#7201a8"
             ],
             [
              0.3333333333333333,
              "#9c179e"
             ],
             [
              0.4444444444444444,
              "#bd3786"
             ],
             [
              0.5555555555555556,
              "#d8576b"
             ],
             [
              0.6666666666666666,
              "#ed7953"
             ],
             [
              0.7777777777777778,
              "#fb9f3a"
             ],
             [
              0.8888888888888888,
              "#fdca26"
             ],
             [
              1,
              "#f0f921"
             ]
            ],
            "type": "heatmapgl"
           }
          ],
          "histogram": [
           {
            "marker": {
             "pattern": {
              "fillmode": "overlay",
              "size": 10,
              "solidity": 0.2
             }
            },
            "type": "histogram"
           }
          ],
          "histogram2d": [
           {
            "colorbar": {
             "outlinewidth": 0,
             "ticks": ""
            },
            "colorscale": [
             [
              0,
              "#0d0887"
             ],
             [
              0.1111111111111111,
              "#46039f"
             ],
             [
              0.2222222222222222,
              "#7201a8"
             ],
             [
              0.3333333333333333,
              "#9c179e"
             ],
             [
              0.4444444444444444,
              "#bd3786"
             ],
             [
              0.5555555555555556,
              "#d8576b"
             ],
             [
              0.6666666666666666,
              "#ed7953"
             ],
             [
              0.7777777777777778,
              "#fb9f3a"
             ],
             [
              0.8888888888888888,
              "#fdca26"
             ],
             [
              1,
              "#f0f921"
             ]
            ],
            "type": "histogram2d"
           }
          ],
          "histogram2dcontour": [
           {
            "colorbar": {
             "outlinewidth": 0,
             "ticks": ""
            },
            "colorscale": [
             [
              0,
              "#0d0887"
             ],
             [
              0.1111111111111111,
              "#46039f"
             ],
             [
              0.2222222222222222,
              "#7201a8"
             ],
             [
              0.3333333333333333,
              "#9c179e"
             ],
             [
              0.4444444444444444,
              "#bd3786"
             ],
             [
              0.5555555555555556,
              "#d8576b"
             ],
             [
              0.6666666666666666,
              "#ed7953"
             ],
             [
              0.7777777777777778,
              "#fb9f3a"
             ],
             [
              0.8888888888888888,
              "#fdca26"
             ],
             [
              1,
              "#f0f921"
             ]
            ],
            "type": "histogram2dcontour"
           }
          ],
          "mesh3d": [
           {
            "colorbar": {
             "outlinewidth": 0,
             "ticks": ""
            },
            "type": "mesh3d"
           }
          ],
          "parcoords": [
           {
            "line": {
             "colorbar": {
              "outlinewidth": 0,
              "ticks": ""
             }
            },
            "type": "parcoords"
           }
          ],
          "pie": [
           {
            "automargin": true,
            "type": "pie"
           }
          ],
          "scatter": [
           {
            "fillpattern": {
             "fillmode": "overlay",
             "size": 10,
             "solidity": 0.2
            },
            "type": "scatter"
           }
          ],
          "scatter3d": [
           {
            "line": {
             "colorbar": {
              "outlinewidth": 0,
              "ticks": ""
             }
            },
            "marker": {
             "colorbar": {
              "outlinewidth": 0,
              "ticks": ""
             }
            },
            "type": "scatter3d"
           }
          ],
          "scattercarpet": [
           {
            "marker": {
             "colorbar": {
              "outlinewidth": 0,
              "ticks": ""
             }
            },
            "type": "scattercarpet"
           }
          ],
          "scattergeo": [
           {
            "marker": {
             "colorbar": {
              "outlinewidth": 0,
              "ticks": ""
             }
            },
            "type": "scattergeo"
           }
          ],
          "scattergl": [
           {
            "marker": {
             "colorbar": {
              "outlinewidth": 0,
              "ticks": ""
             }
            },
            "type": "scattergl"
           }
          ],
          "scattermapbox": [
           {
            "marker": {
             "colorbar": {
              "outlinewidth": 0,
              "ticks": ""
             }
            },
            "type": "scattermapbox"
           }
          ],
          "scatterpolar": [
           {
            "marker": {
             "colorbar": {
              "outlinewidth": 0,
              "ticks": ""
             }
            },
            "type": "scatterpolar"
           }
          ],
          "scatterpolargl": [
           {
            "marker": {
             "colorbar": {
              "outlinewidth": 0,
              "ticks": ""
             }
            },
            "type": "scatterpolargl"
           }
          ],
          "scatterternary": [
           {
            "marker": {
             "colorbar": {
              "outlinewidth": 0,
              "ticks": ""
             }
            },
            "type": "scatterternary"
           }
          ],
          "surface": [
           {
            "colorbar": {
             "outlinewidth": 0,
             "ticks": ""
            },
            "colorscale": [
             [
              0,
              "#0d0887"
             ],
             [
              0.1111111111111111,
              "#46039f"
             ],
             [
              0.2222222222222222,
              "#7201a8"
             ],
             [
              0.3333333333333333,
              "#9c179e"
             ],
             [
              0.4444444444444444,
              "#bd3786"
             ],
             [
              0.5555555555555556,
              "#d8576b"
             ],
             [
              0.6666666666666666,
              "#ed7953"
             ],
             [
              0.7777777777777778,
              "#fb9f3a"
             ],
             [
              0.8888888888888888,
              "#fdca26"
             ],
             [
              1,
              "#f0f921"
             ]
            ],
            "type": "surface"
           }
          ],
          "table": [
           {
            "cells": {
             "fill": {
              "color": "#EBF0F8"
             },
             "line": {
              "color": "white"
             }
            },
            "header": {
             "fill": {
              "color": "#C8D4E3"
             },
             "line": {
              "color": "white"
             }
            },
            "type": "table"
           }
          ]
         },
         "layout": {
          "annotationdefaults": {
           "arrowcolor": "#2a3f5f",
           "arrowhead": 0,
           "arrowwidth": 1
          },
          "autotypenumbers": "strict",
          "coloraxis": {
           "colorbar": {
            "outlinewidth": 0,
            "ticks": ""
           }
          },
          "colorscale": {
           "diverging": [
            [
             0,
             "#8e0152"
            ],
            [
             0.1,
             "#c51b7d"
            ],
            [
             0.2,
             "#de77ae"
            ],
            [
             0.3,
             "#f1b6da"
            ],
            [
             0.4,
             "#fde0ef"
            ],
            [
             0.5,
             "#f7f7f7"
            ],
            [
             0.6,
             "#e6f5d0"
            ],
            [
             0.7,
             "#b8e186"
            ],
            [
             0.8,
             "#7fbc41"
            ],
            [
             0.9,
             "#4d9221"
            ],
            [
             1,
             "#276419"
            ]
           ],
           "sequential": [
            [
             0,
             "#0d0887"
            ],
            [
             0.1111111111111111,
             "#46039f"
            ],
            [
             0.2222222222222222,
             "#7201a8"
            ],
            [
             0.3333333333333333,
             "#9c179e"
            ],
            [
             0.4444444444444444,
             "#bd3786"
            ],
            [
             0.5555555555555556,
             "#d8576b"
            ],
            [
             0.6666666666666666,
             "#ed7953"
            ],
            [
             0.7777777777777778,
             "#fb9f3a"
            ],
            [
             0.8888888888888888,
             "#fdca26"
            ],
            [
             1,
             "#f0f921"
            ]
           ],
           "sequentialminus": [
            [
             0,
             "#0d0887"
            ],
            [
             0.1111111111111111,
             "#46039f"
            ],
            [
             0.2222222222222222,
             "#7201a8"
            ],
            [
             0.3333333333333333,
             "#9c179e"
            ],
            [
             0.4444444444444444,
             "#bd3786"
            ],
            [
             0.5555555555555556,
             "#d8576b"
            ],
            [
             0.6666666666666666,
             "#ed7953"
            ],
            [
             0.7777777777777778,
             "#fb9f3a"
            ],
            [
             0.8888888888888888,
             "#fdca26"
            ],
            [
             1,
             "#f0f921"
            ]
           ]
          },
          "colorway": [
           "#636efa",
           "#EF553B",
           "#00cc96",
           "#ab63fa",
           "#FFA15A",
           "#19d3f3",
           "#FF6692",
           "#B6E880",
           "#FF97FF",
           "#FECB52"
          ],
          "font": {
           "color": "#2a3f5f"
          },
          "geo": {
           "bgcolor": "white",
           "lakecolor": "white",
           "landcolor": "#E5ECF6",
           "showlakes": true,
           "showland": true,
           "subunitcolor": "white"
          },
          "hoverlabel": {
           "align": "left"
          },
          "hovermode": "closest",
          "mapbox": {
           "style": "light"
          },
          "paper_bgcolor": "white",
          "plot_bgcolor": "#E5ECF6",
          "polar": {
           "angularaxis": {
            "gridcolor": "white",
            "linecolor": "white",
            "ticks": ""
           },
           "bgcolor": "#E5ECF6",
           "radialaxis": {
            "gridcolor": "white",
            "linecolor": "white",
            "ticks": ""
           }
          },
          "scene": {
           "xaxis": {
            "backgroundcolor": "#E5ECF6",
            "gridcolor": "white",
            "gridwidth": 2,
            "linecolor": "white",
            "showbackground": true,
            "ticks": "",
            "zerolinecolor": "white"
           },
           "yaxis": {
            "backgroundcolor": "#E5ECF6",
            "gridcolor": "white",
            "gridwidth": 2,
            "linecolor": "white",
            "showbackground": true,
            "ticks": "",
            "zerolinecolor": "white"
           },
           "zaxis": {
            "backgroundcolor": "#E5ECF6",
            "gridcolor": "white",
            "gridwidth": 2,
            "linecolor": "white",
            "showbackground": true,
            "ticks": "",
            "zerolinecolor": "white"
           }
          },
          "shapedefaults": {
           "line": {
            "color": "#2a3f5f"
           }
          },
          "ternary": {
           "aaxis": {
            "gridcolor": "white",
            "linecolor": "white",
            "ticks": ""
           },
           "baxis": {
            "gridcolor": "white",
            "linecolor": "white",
            "ticks": ""
           },
           "bgcolor": "#E5ECF6",
           "caxis": {
            "gridcolor": "white",
            "linecolor": "white",
            "ticks": ""
           }
          },
          "title": {
           "x": 0.05
          },
          "xaxis": {
           "automargin": true,
           "gridcolor": "white",
           "linecolor": "white",
           "ticks": "",
           "title": {
            "standoff": 15
           },
           "zerolinecolor": "white",
           "zerolinewidth": 2
          },
          "yaxis": {
           "automargin": true,
           "gridcolor": "white",
           "linecolor": "white",
           "ticks": "",
           "title": {
            "standoff": 15
           },
           "zerolinecolor": "white",
           "zerolinewidth": 2
          }
         }
        },
        "title": {
         "text": "Interactive Plots"
        },
        "width": 1000,
        "xaxis": {
         "anchor": "y",
         "domain": [
          0,
          0.1375
         ],
         "matches": "x25",
         "showticklabels": false
        },
        "xaxis10": {
         "anchor": "y10",
         "domain": [
          0.2875,
          0.425
         ],
         "matches": "x26",
         "showticklabels": false
        },
        "xaxis11": {
         "anchor": "y11",
         "domain": [
          0.575,
          0.7124999999999999
         ],
         "matches": "x27",
         "showticklabels": false
        },
        "xaxis12": {
         "anchor": "y12",
         "domain": [
          0.8625,
          1
         ],
         "matches": "x28",
         "showticklabels": false
        },
        "xaxis13": {
         "anchor": "y13",
         "domain": [
          0,
          0.1375
         ],
         "matches": "x25",
         "showticklabels": false
        },
        "xaxis14": {
         "anchor": "y14",
         "domain": [
          0.2875,
          0.425
         ],
         "matches": "x26",
         "showticklabels": false
        },
        "xaxis15": {
         "anchor": "y15",
         "domain": [
          0.575,
          0.7124999999999999
         ],
         "matches": "x27",
         "showticklabels": false
        },
        "xaxis16": {
         "anchor": "y16",
         "domain": [
          0.8625,
          1
         ],
         "matches": "x28",
         "showticklabels": false
        },
        "xaxis17": {
         "anchor": "y17",
         "domain": [
          0,
          0.1375
         ],
         "matches": "x25",
         "showticklabels": false
        },
        "xaxis18": {
         "anchor": "y18",
         "domain": [
          0.2875,
          0.425
         ],
         "matches": "x26",
         "showticklabels": false
        },
        "xaxis19": {
         "anchor": "y19",
         "domain": [
          0.575,
          0.7124999999999999
         ],
         "matches": "x27",
         "showticklabels": false
        },
        "xaxis2": {
         "anchor": "y2",
         "domain": [
          0.2875,
          0.425
         ],
         "matches": "x26",
         "showticklabels": false
        },
        "xaxis20": {
         "anchor": "y20",
         "domain": [
          0.8625,
          1
         ],
         "matches": "x28",
         "showticklabels": false
        },
        "xaxis21": {
         "anchor": "y21",
         "domain": [
          0,
          0.1375
         ],
         "matches": "x25",
         "showticklabels": false
        },
        "xaxis22": {
         "anchor": "y22",
         "domain": [
          0.2875,
          0.425
         ],
         "matches": "x26",
         "showticklabels": false
        },
        "xaxis23": {
         "anchor": "y23",
         "domain": [
          0.575,
          0.7124999999999999
         ],
         "matches": "x27",
         "showticklabels": false
        },
        "xaxis24": {
         "anchor": "y24",
         "domain": [
          0.8625,
          1
         ],
         "matches": "x28",
         "showticklabels": false
        },
        "xaxis25": {
         "anchor": "y25",
         "domain": [
          0,
          0.1375
         ]
        },
        "xaxis26": {
         "anchor": "y26",
         "domain": [
          0.2875,
          0.425
         ]
        },
        "xaxis27": {
         "anchor": "y27",
         "domain": [
          0.575,
          0.7124999999999999
         ]
        },
        "xaxis28": {
         "anchor": "y28",
         "domain": [
          0.8625,
          1
         ]
        },
        "xaxis3": {
         "anchor": "y3",
         "domain": [
          0.575,
          0.7124999999999999
         ],
         "matches": "x27",
         "showticklabels": false
        },
        "xaxis4": {
         "anchor": "y4",
         "domain": [
          0.8625,
          1
         ],
         "matches": "x28",
         "showticklabels": false
        },
        "xaxis5": {
         "anchor": "y5",
         "domain": [
          0,
          0.1375
         ],
         "matches": "x25",
         "showticklabels": false
        },
        "xaxis6": {
         "anchor": "y6",
         "domain": [
          0.2875,
          0.425
         ],
         "matches": "x26",
         "showticklabels": false
        },
        "xaxis7": {
         "anchor": "y7",
         "domain": [
          0.575,
          0.7124999999999999
         ],
         "matches": "x27",
         "showticklabels": false
        },
        "xaxis8": {
         "anchor": "y8",
         "domain": [
          0.8625,
          1
         ],
         "matches": "x28",
         "showticklabels": false
        },
        "xaxis9": {
         "anchor": "y9",
         "domain": [
          0,
          0.1375
         ],
         "matches": "x25",
         "showticklabels": false
        },
        "yaxis": {
         "anchor": "x",
         "domain": [
          0.8828571428571428,
          0.9999999999999999
         ],
         "dtick": 1
        },
        "yaxis10": {
         "anchor": "x10",
         "domain": [
          0.5885714285714285,
          0.7057142857142856
         ]
        },
        "yaxis11": {
         "anchor": "x11",
         "domain": [
          0.5885714285714285,
          0.7057142857142856
         ]
        },
        "yaxis12": {
         "anchor": "x12",
         "domain": [
          0.5885714285714285,
          0.7057142857142856
         ]
        },
        "yaxis13": {
         "anchor": "x13",
         "domain": [
          0.4414285714285714,
          0.5585714285714285
         ]
        },
        "yaxis14": {
         "anchor": "x14",
         "domain": [
          0.4414285714285714,
          0.5585714285714285
         ]
        },
        "yaxis15": {
         "anchor": "x15",
         "domain": [
          0.4414285714285714,
          0.5585714285714285
         ]
        },
        "yaxis16": {
         "anchor": "x16",
         "domain": [
          0.4414285714285714,
          0.5585714285714285
         ]
        },
        "yaxis17": {
         "anchor": "x17",
         "domain": [
          0.29428571428571426,
          0.4114285714285714
         ]
        },
        "yaxis18": {
         "anchor": "x18",
         "domain": [
          0.29428571428571426,
          0.4114285714285714
         ]
        },
        "yaxis19": {
         "anchor": "x19",
         "domain": [
          0.29428571428571426,
          0.4114285714285714
         ]
        },
        "yaxis2": {
         "anchor": "x2",
         "domain": [
          0.8828571428571428,
          0.9999999999999999
         ]
        },
        "yaxis20": {
         "anchor": "x20",
         "domain": [
          0.29428571428571426,
          0.4114285714285714
         ]
        },
        "yaxis21": {
         "anchor": "x21",
         "domain": [
          0.14714285714285713,
          0.2642857142857143
         ]
        },
        "yaxis22": {
         "anchor": "x22",
         "domain": [
          0.14714285714285713,
          0.2642857142857143
         ]
        },
        "yaxis23": {
         "anchor": "x23",
         "domain": [
          0.14714285714285713,
          0.2642857142857143
         ]
        },
        "yaxis24": {
         "anchor": "x24",
         "domain": [
          0.14714285714285713,
          0.2642857142857143
         ]
        },
        "yaxis25": {
         "anchor": "x25",
         "domain": [
          0,
          0.11714285714285715
         ]
        },
        "yaxis26": {
         "anchor": "x26",
         "domain": [
          0,
          0.11714285714285715
         ]
        },
        "yaxis27": {
         "anchor": "x27",
         "domain": [
          0,
          0.11714285714285715
         ]
        },
        "yaxis28": {
         "anchor": "x28",
         "domain": [
          0,
          0.11714285714285715
         ]
        },
        "yaxis3": {
         "anchor": "x3",
         "domain": [
          0.8828571428571428,
          0.9999999999999999
         ]
        },
        "yaxis4": {
         "anchor": "x4",
         "domain": [
          0.8828571428571428,
          0.9999999999999999
         ]
        },
        "yaxis5": {
         "anchor": "x5",
         "domain": [
          0.7357142857142858,
          0.8528571428571429
         ]
        },
        "yaxis6": {
         "anchor": "x6",
         "domain": [
          0.7357142857142858,
          0.8528571428571429
         ]
        },
        "yaxis7": {
         "anchor": "x7",
         "domain": [
          0.7357142857142858,
          0.8528571428571429
         ]
        },
        "yaxis8": {
         "anchor": "x8",
         "domain": [
          0.7357142857142858,
          0.8528571428571429
         ]
        },
        "yaxis9": {
         "anchor": "x9",
         "domain": [
          0.5885714285714285,
          0.7057142857142856
         ]
        }
       }
      }
     },
     "metadata": {},
     "output_type": "display_data"
    }
   ],
   "source": [
    "import plotly.graph_objects as go\n",
    "from plotly.subplots import make_subplots\n",
    "import plotly.offline as py\n",
    "\n",
    "\n",
    "def plotly_bargraphs(df, col_name, category_name, color):\n",
    "    if len(category_name) == 0:\n",
    "        legend_val = False\n",
    "    else:\n",
    "        legend_val = True\n",
    "    trace = go.Figure(\n",
    "        go.Bar(\n",
    "            x=df[col_name][::-1],\n",
    "            y=df.index[::-1],\n",
    "            marker=dict(color=color),\n",
    "            orientation=\"h\",\n",
    "            name=category_name,\n",
    "            showlegend=legend_val,\n",
    "        )\n",
    "    )\n",
    "    return trace\n",
    "\n",
    "\n",
    "plot11 = plotly_bargraphs(\n",
    "    channel, \"Visitors\", \"Channel\", color=\"rgba(246, 78, 139, 0.6)\"\n",
    ")\n",
    "plot12 = plotly_bargraphs(\n",
    "    channel, \"VisitorsWithRevenue\", \"\", color=\"rgba(246, 78, 139, 0.6)\"\n",
    ")\n",
    "plot13 = plotly_bargraphs(\n",
    "    channel, \"revenuePerVisit\", \"\", color=\"rgba(246, 78, 139, 0.6)\"\n",
    ")\n",
    "plot14 = plotly_bargraphs(\n",
    "    channel, \"spendPerRevenueVisit\", \"\", color=\"rgba(246, 78, 139, 0.6)\"\n",
    ")\n",
    "\n",
    "plot21 = plotly_bargraphs(\n",
    "    browser, \"Visitors\", \"Browser\", color=\"rgba(36, 70, 139, 0.6)\"\n",
    ")\n",
    "plot22 = plotly_bargraphs(\n",
    "    browser, \"VisitorsWithRevenue\", \"\", color=\"rgba(36, 70, 139, 0.6)\"\n",
    ")\n",
    "plot23 = plotly_bargraphs(\n",
    "    browser, \"revenuePerVisit\", \"\", color=\"rgba(36, 70, 139, 0.6)\"\n",
    ")\n",
    "plot24 = plotly_bargraphs(\n",
    "    browser, \"spendPerRevenueVisit\", \"\", color=\"rgba(36, 70, 139, 0.6)\"\n",
    ")\n",
    "\n",
    "plot31 = plotly_bargraphs(\n",
    "    operating_system, \"Visitors\", \"Operating System\", color=\"rgba(136, 10, 139, 0.6)\"\n",
    ")\n",
    "plot32 = plotly_bargraphs(\n",
    "    operating_system, \"VisitorsWithRevenue\", \"\", color=\"rgba(136, 10, 139, 0.6)\"\n",
    ")\n",
    "plot33 = plotly_bargraphs(\n",
    "    operating_system, \"revenuePerVisit\", \"\", color=\"rgba(136, 10, 139, 0.6)\"\n",
    ")\n",
    "plot34 = plotly_bargraphs(\n",
    "    operating_system, \"spendPerRevenueVisit\", \"\", color=\"rgba(136, 10, 139, 0.6)\"\n",
    ")\n",
    "\n",
    "plot41 = plotly_bargraphs(\n",
    "    device, \"Visitors\", \"Device Category\", color=\"rgba(136, 0, 0, 0.6)\"\n",
    ")\n",
    "plot42 = plotly_bargraphs(\n",
    "    device, \"VisitorsWithRevenue\", \"\", color=\"rgba(136, 0, 0, 0.6)\"\n",
    ")\n",
    "plot43 = plotly_bargraphs(device, \"revenuePerVisit\", \"\", color=\"rgba(136, 0, 0, 0.6)\")\n",
    "plot44 = plotly_bargraphs(\n",
    "    device, \"spendPerRevenueVisit\", \"\", color=\"rgba(136, 0, 0, 0.6)\"\n",
    ")\n",
    "\n",
    "plot51 = plotly_bargraphs(country, \"Visitors\", \"Country\", color=\"rgba(0, 70, 0, 0.6)\")\n",
    "plot52 = plotly_bargraphs(\n",
    "    country, \"VisitorsWithRevenue\", \"\", color=\"rgba(0, 70, 0, 0.6)\"\n",
    ")\n",
    "plot53 = plotly_bargraphs(country, \"revenuePerVisit\", \"\", color=\"rgba(0, 70, 0, 0.6)\")\n",
    "plot54 = plotly_bargraphs(\n",
    "    country, \"spendPerRevenueVisit\", \"\", color=\"rgba(0, 70, 0, 0.6)\"\n",
    ")\n",
    "\n",
    "plot61 = plotly_bargraphs(region, \"Visitors\", \"Region\", color=\"rgba(0, 0, 130, 0.6)\")\n",
    "plot62 = plotly_bargraphs(\n",
    "    region, \"VisitorsWithRevenue\", \"\", color=\"rgba(0, 0, 130, 0.6)\"\n",
    ")\n",
    "plot63 = plotly_bargraphs(region, \"revenuePerVisit\", \"\", color=\"rgba(0, 0, 130, 0.6)\")\n",
    "plot64 = plotly_bargraphs(\n",
    "    region, \"spendPerRevenueVisit\", \"\", color=\"rgba(0, 0, 130, 0.6)\"\n",
    ")\n",
    "\n",
    "plot71 = plotly_bargraphs(traffic, \"Visitors\", \"Traffic\", color=\"rgba(136, 70, 0, 0.6)\")\n",
    "plot72 = plotly_bargraphs(\n",
    "    traffic, \"VisitorsWithRevenue\", \"\", color=\"rgba(136, 70, 0, 0.6)\"\n",
    ")\n",
    "plot73 = plotly_bargraphs(traffic, \"revenuePerVisit\", \"\", color=\"rgba(136, 70, 0, 0.6)\")\n",
    "plot74 = plotly_bargraphs(\n",
    "    traffic, \"spendPerRevenueVisit\", \"\", color=\"rgba(136, 70, 0, 0.6)\"\n",
    ")\n",
    "\n",
    "\n",
    "fig = go.Figure()\n",
    "\n",
    "fig = make_subplots(\n",
    "    rows=7,\n",
    "    cols=4,\n",
    "    shared_xaxes=True,\n",
    "    shared_yaxes=False,\n",
    "    vertical_spacing=0.03,\n",
    "    horizontal_spacing=0.15,\n",
    "    subplot_titles=[\n",
    "        \"Categorical grouping <br> Visits\",\n",
    "        \"Categorical grouping <br> Visits With Revenue\",\n",
    "        \"Categorical grouping <br> Revenue per Visit\",\n",
    "        \"Categorical grouping <br> Spend per Revenue Visit\",\n",
    "    ],\n",
    ")\n",
    "\n",
    "# Adding traces to the suplots\n",
    "fig.add_trace(plot11.data[0], row=1, col=1)\n",
    "fig.add_trace(plot12.data[0], row=1, col=2)\n",
    "fig.add_trace(plot13.data[0], row=1, col=3)\n",
    "fig.add_trace(plot14.data[0], row=1, col=4)\n",
    "\n",
    "fig.add_trace(plot21.data[0], row=2, col=1)\n",
    "fig.add_trace(plot22.data[0], row=2, col=2)\n",
    "fig.add_trace(plot23.data[0], row=2, col=3)\n",
    "fig.add_trace(plot24.data[0], row=2, col=4)\n",
    "\n",
    "fig.add_trace(plot31.data[0], row=3, col=1)\n",
    "fig.add_trace(plot32.data[0], row=3, col=2)\n",
    "fig.add_trace(plot33.data[0], row=3, col=3)\n",
    "fig.add_trace(plot34.data[0], row=3, col=4)\n",
    "\n",
    "fig.add_trace(plot41.data[0], row=4, col=1)\n",
    "fig.add_trace(plot42.data[0], row=4, col=2)\n",
    "fig.add_trace(plot43.data[0], row=4, col=3)\n",
    "fig.add_trace(plot44.data[0], row=4, col=4)\n",
    "\n",
    "fig.add_trace(plot51.data[0], row=5, col=1)\n",
    "fig.add_trace(plot52.data[0], row=5, col=2)\n",
    "fig.add_trace(plot53.data[0], row=5, col=3)\n",
    "fig.add_trace(plot54.data[0], row=5, col=4)\n",
    "\n",
    "fig.add_trace(plot61.data[0], row=6, col=1)\n",
    "fig.add_trace(plot62.data[0], row=6, col=2)\n",
    "fig.add_trace(plot63.data[0], row=6, col=3)\n",
    "fig.add_trace(plot64.data[0], row=6, col=4)\n",
    "\n",
    "fig.add_trace(plot71.data[0], row=7, col=1)\n",
    "fig.add_trace(plot72.data[0], row=7, col=2)\n",
    "fig.add_trace(plot73.data[0], row=7, col=3)\n",
    "fig.add_trace(plot74.data[0], row=7, col=4)\n",
    "\n",
    "# Updating layout\n",
    "fig.update_layout(\n",
    "    yaxis={\"dtick\": 1},\n",
    "    margin={\"t\": 100, \"b\": 100},\n",
    "    height=2000,\n",
    "    width=1000,\n",
    "    paper_bgcolor=\"rgb(233,233,233)\",\n",
    "    title=\"Interactive Plots\",\n",
    ")\n",
    "fig.update_annotations(font_size=12)\n",
    "\n",
    "# Displaying the plot\n",
    "py.iplot(fig, filename=\"channel-plots\")"
   ]
  }
 ],
 "metadata": {
  "kernelspec": {
   "display_name": "ml39",
   "language": "python",
   "name": "python3"
  },
  "language_info": {
   "codemirror_mode": {
    "name": "ipython",
    "version": 3
   },
   "file_extension": ".py",
   "mimetype": "text/x-python",
   "name": "python",
   "nbconvert_exporter": "python",
   "pygments_lexer": "ipython3",
   "version": "3.9.6"
  }
 },
 "nbformat": 4,
 "nbformat_minor": 2
}
